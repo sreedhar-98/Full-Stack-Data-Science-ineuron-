{
  "nbformat": 4,
  "nbformat_minor": 0,
  "metadata": {
    "colab": {
      "provenance": []
    },
    "kernelspec": {
      "name": "python3",
      "display_name": "Python 3"
    },
    "language_info": {
      "name": "python"
    }
  },
  "cells": [
    {
      "cell_type": "markdown",
      "source": [
        "Question 1\n",
        "Given an integer array nums of length n and an integer target, find three integers\n",
        "in nums such that the sum is closest to the target.\n",
        "Return the sum of the three integers.\n",
        "\n",
        "You may assume that each input would have exactly one solution.\n",
        "\n",
        "Example 1:\n",
        "Input: nums = [-1,2,1,-4], target = 1\n",
        "Output: 2\n",
        "\n",
        "Explanation: The sum that is closest to the target is 2. (-1 + 2 + 1 = 2)."
      ],
      "metadata": {
        "id": "AeREXB5_niTT"
      }
    },
    {
      "cell_type": "code",
      "source": [
        "def sum_closest(nums,target):\n",
        "  nums.sort()\n",
        "  diff=float('inf')\n",
        "  ans=0\n",
        "  n=len(nums)\n",
        "  for i in range(n-2):\n",
        "    j,k=i+1,n-1\n",
        "    while j<k:\n",
        "      add=nums[i]+nums[j]+nums[k]\n",
        "      curr_diff=abs(target-add)\n",
        "      if curr_diff<diff:\n",
        "        ans=add\n",
        "        diff=curr_diff\n",
        "      if add>target:\n",
        "        k-=1\n",
        "      else:\n",
        "        j+=1\n",
        "    if diff==0:\n",
        "      break\n",
        "  return ans\n",
        "nums = [-1,2,1,-4]\n",
        "target = 1 \n",
        "sum_closest(nums,target)"
      ],
      "metadata": {
        "colab": {
          "base_uri": "https://localhost:8080/"
        },
        "id": "NMjWqRdenj3v",
        "outputId": "87af820c-2999-4f7d-b5e9-b4e745689904"
      },
      "execution_count": null,
      "outputs": [
        {
          "output_type": "execute_result",
          "data": {
            "text/plain": [
              "2"
            ]
          },
          "metadata": {},
          "execution_count": 2
        }
      ]
    },
    {
      "cell_type": "markdown",
      "source": [
        "Question 2\n",
        "Given an array nums of n integers, return an array of all the unique quadruplets\n",
        "\n",
        "[nums[a], nums[b], nums[c], nums[d]] such that:\n",
        "          \n",
        "           ● 0 <= a, b, c, d < n\n",
        "          \n",
        "           ● a, b, c, and d are distinct.\n",
        "          \n",
        "           ● nums[a] + nums[b] + nums[c] + nums[d] == target\n",
        "\n",
        "You may return the answer in any order.\n",
        "\n",
        "Example 1:\n",
        "\n",
        "Input: nums = [1,0,-1,0,-2,2], target = 0\n",
        "\n",
        "Output: [[-2,-1,1,2],[-2,0,0,2],[-1,0,0,1]]"
      ],
      "metadata": {
        "id": "s9lZuMEYpaQa"
      }
    },
    {
      "cell_type": "code",
      "source": [
        "def unique_quadruplets(nums,target):\n",
        "  nums.sort()\n",
        "  ans=set()\n",
        "  n=len(nums)\n",
        "  if n<4 or nums[0]*4>target or nums[-1]*4<target:\n",
        "    return []\n",
        "  for i in range(n-3):\n",
        "    if i>0 and nums[i]==nums[i-1]:\n",
        "      continue\n",
        "    for j in range(i+1,n-2):\n",
        "      if j>i+1 and nums[j]==nums[j-1]:\n",
        "        continue\n",
        "      k,l=j+1,n-1\n",
        "      while k<l:\n",
        "        add=nums[i]+nums[j]+nums[k]+nums[l]\n",
        "        if add==target:\n",
        "          ans.add(tuple(sorted([nums[i],nums[j],nums[k],nums[l]])))\n",
        "          k+=1\n",
        "          l-=1\n",
        "        elif add>target:\n",
        "          l-=1\n",
        "        else:\n",
        "          k+=1\n",
        "  return ans\n",
        "nums = [1,0,-1,0,-2,2]\n",
        "target = 0\n",
        "unique_quadruplets(nums,target)"
      ],
      "metadata": {
        "colab": {
          "base_uri": "https://localhost:8080/"
        },
        "id": "0cLsMNY7oCV6",
        "outputId": "788540d1-b599-48f6-fe1b-d54dab3730da"
      },
      "execution_count": null,
      "outputs": [
        {
          "output_type": "execute_result",
          "data": {
            "text/plain": [
              "{(-2, -1, 1, 2), (-2, 0, 0, 2), (-1, 0, 0, 1)}"
            ]
          },
          "metadata": {},
          "execution_count": 3
        }
      ]
    },
    {
      "cell_type": "markdown",
      "source": [
        "<aside>\n",
        "💡 **Question 3**\n",
        "A permutation of an array of integers is an arrangement of its members into a\n",
        "sequence or linear order.\n",
        "\n",
        "For example, for arr = [1,2,3], the following are all the permutations of arr:\n",
        "[1,2,3], [1,3,2], [2, 1, 3], [2, 3, 1], [3,1,2], [3,2,1].\n",
        "\n",
        "The next permutation of an array of integers is the next lexicographically greater permutation of its integer. More formally, if all the permutations of the array are sorted in one container according to their lexicographical order, then the next permutation of that array is the permutation that follows it in the sorted container.\n",
        "\n",
        "If such an arrangement is not possible, the array must be rearranged as thelowest possible order (i.e., sorted in ascending order).\n",
        "\n",
        "● For example, the next permutation of arr = [1,2,3] is [1,3,2].\n",
        "\n",
        "● Similarly, the next permutation of arr = [2,3,1] is [3,1,2].\n",
        "\n",
        "● While the next permutation of arr = [3,2,1] is [1,2,3] because [3,2,1] does not have a lexicographical larger rearrangement.\n",
        "\n",
        "Given an array of integers nums, find the next permutation of nums.\n",
        "The replacement must be in place and use only constant extra memory.\n",
        "\n",
        "**Example 1:**\n",
        "\n",
        "Input: nums = [1,2,3]\n",
        "\n",
        "Output: [1,3,2]\n",
        "\n",
        "</aside>"
      ],
      "metadata": {
        "id": "GmWd5VUlua4R"
      }
    },
    {
      "cell_type": "code",
      "source": [
        "def reverse(nums,i,j):\n",
        "  while i<j:\n",
        "    nums[i],nums[j]=nums[j],nums[i]\n",
        "    i+=1\n",
        "    j-=1\n",
        "def next_permutation(nums):\n",
        "  n=len(nums)\n",
        "  ind=-1\n",
        "  for i in range(n-1,0,-1):\n",
        "    if nums[i]>nums[i-1]:\n",
        "      ind=i\n",
        "      break\n",
        "  if ind==-1:\n",
        "    reverse(nums,0,n-1)\n",
        "  else:\n",
        "    j=ind\n",
        "    num=nums[ind-1]\n",
        "    j=n-1\n",
        "    while j>=ind:\n",
        "      if nums[j]>nums[ind-1]:\n",
        "        nums[j],nums[ind-1]=nums[ind-1],nums[j]\n",
        "        break\n",
        "      j-=1\n",
        "    reverse(nums,ind,n-1)\n",
        "    \n",
        "arr = [1,2,3]\n",
        "next_permutation(arr)\n",
        "print(arr)"
      ],
      "metadata": {
        "colab": {
          "base_uri": "https://localhost:8080/"
        },
        "id": "JMHR5uNOt7Fd",
        "outputId": "f760c4a6-08e7-483a-f8e1-dae95ed478f8"
      },
      "execution_count": null,
      "outputs": [
        {
          "output_type": "stream",
          "name": "stdout",
          "text": [
            "[1, 3, 2]\n"
          ]
        }
      ]
    },
    {
      "cell_type": "markdown",
      "source": [
        "Question 4\n",
        "\n",
        "Given a sorted array of distinct integers and a target value, return the index if the target is found. If not, return the index where it would be if it were inserted in order.\n",
        "\n",
        "You must write an algorithm with O(log n) runtime complexity.\n",
        "\n",
        "Example 1:\n",
        "\n",
        "Input: nums = [1,3,5,6], target = 5\n",
        "\n",
        "Output: 2"
      ],
      "metadata": {
        "id": "l2Hl9p3IEIhD"
      }
    },
    {
      "cell_type": "code",
      "source": [
        "def insert_order(nums,target):\n",
        "  low,high=0,len(nums)-1\n",
        "  while low<=high:\n",
        "    mid=(low+high)//2\n",
        "    if nums[mid]==target:\n",
        "      return mid\n",
        "    elif nums[mid]>target:\n",
        "      high=mid-1\n",
        "    else:\n",
        "      low=mid+1\n",
        "  return low\n",
        "nums = [1,3,5,6]\n",
        "target = 5\n",
        "insert_order(nums,target)"
      ],
      "metadata": {
        "colab": {
          "base_uri": "https://localhost:8080/"
        },
        "id": "ryjerZ2UqhiQ",
        "outputId": "9c86665b-bfe9-447c-aa6c-77d6d349f136"
      },
      "execution_count": 1,
      "outputs": [
        {
          "output_type": "execute_result",
          "data": {
            "text/plain": [
              "2"
            ]
          },
          "metadata": {},
          "execution_count": 1
        }
      ]
    },
    {
      "cell_type": "markdown",
      "source": [
        "<aside>\n",
        "💡 **Question 5**\n",
        "\n",
        "You are given a large integer represented as an integer array digits, where each\n",
        "digits[i] is the ith digit of the integer. The digits are ordered from most significant\n",
        "to least significant in left-to-right order. The large integer does not contain any\n",
        "leading 0's.\n",
        "\n",
        "Increment the large integer by one and return the resulting array of digits.\n",
        "\n",
        "**Example 1:**\n",
        "Input: digits = [1,2,3]\n",
        "Output: [1,2,4]\n",
        "\n",
        "**Explanation:** The array represents the integer 123.\n",
        "Incrementing by one gives 123 + 1 = 124.\n",
        "Thus, the result should be [1,2,4].\n",
        "\n",
        "</aside>"
      ],
      "metadata": {
        "id": "FPht2DtQEdXh"
      }
    },
    {
      "cell_type": "code",
      "source": [
        "def add_one(digits):\n",
        "  carry=0\n",
        "  i=len(digits)-1\n",
        "  while i>=0:\n",
        "    if digits[i]==9:\n",
        "      digits[i]=0\n",
        "      carry=1\n",
        "    else:\n",
        "      digits[i]+=1\n",
        "      carry=0\n",
        "      break\n",
        "    i-=1\n",
        "  if carry==1:\n",
        "    return [1]+digits\n",
        "  return digits\n",
        "print(add_one([1,2,3]))\n",
        "print(add_one([1,2,9]))\n",
        "print(add_one([9,9,9]))"
      ],
      "metadata": {
        "colab": {
          "base_uri": "https://localhost:8080/"
        },
        "id": "kE-uv5lNEf_A",
        "outputId": "ae3f9e55-a7d5-4dba-ca65-1069911c5080"
      },
      "execution_count": 2,
      "outputs": [
        {
          "output_type": "stream",
          "name": "stdout",
          "text": [
            "[1, 2, 4]\n",
            "[1, 3, 0]\n",
            "[1, 0, 0, 0]\n"
          ]
        }
      ]
    },
    {
      "cell_type": "markdown",
      "source": [
        "Question 6\n",
        "\n",
        "Given a non-empty array of integers nums, every element appears twice except for one. Find that single one.\n",
        "\n",
        "You must implement a solution with a linear runtime complexity and use only constant extra space.\n",
        "\n",
        "Example 1:\n",
        "\n",
        "Input: nums = [2,2,1]\n",
        "\n",
        "Output: 1"
      ],
      "metadata": {
        "id": "biBfxT-kE1Po"
      }
    },
    {
      "cell_type": "code",
      "source": [
        "def single_num(nums):\n",
        "  ans=0\n",
        "  for i in nums:\n",
        "    ans^=i\n",
        "  return ans\n",
        "single_num([2,2,1,1,3,3,5,6,6])"
      ],
      "metadata": {
        "colab": {
          "base_uri": "https://localhost:8080/"
        },
        "id": "5l7mL83_E59h",
        "outputId": "89b08f4b-9c54-492c-82e7-804ab8481d4f"
      },
      "execution_count": 4,
      "outputs": [
        {
          "output_type": "execute_result",
          "data": {
            "text/plain": [
              "5"
            ]
          },
          "metadata": {},
          "execution_count": 4
        }
      ]
    },
    {
      "cell_type": "markdown",
      "source": [
        "Question 7\n",
        "\n",
        "You are given an inclusive range [lower, upper] and a sorted unique integer array nums, where all elements are within the inclusive range.\n",
        "\n",
        "A number x is considered missing if x is in the range [lower, upper] and x is not in nums.\n",
        "\n",
        "Return the shortest sorted list of ranges that exactly covers all the missing numbers. That is, no element of nums is included in any of the ranges, and each missing number is covered by one of the ranges.\n",
        "\n",
        "Example 1:\n",
        "\n",
        "Input: nums = [0,1,3,50,75], lower = 0, upper = 99\n",
        "\n",
        "Output: [[2,2],[4,49],[51,74],[76,99]]\n",
        "\n",
        "Explanation: The ranges are:\n",
        "\n",
        "[2,2]\n",
        "\n",
        "[4,49]\n",
        "\n",
        "[51,74]\n",
        "\n",
        "[76,99]"
      ],
      "metadata": {
        "id": "L6MlCHcsFbYh"
      }
    },
    {
      "cell_type": "code",
      "source": [
        "def missing_range(nums,lower,upper):\n",
        "  end=1\n",
        "  n=len(nums)\n",
        "  ans=[]\n",
        "  if nums[0]>lower:\n",
        "    ans.append([lower,nums[0]-1])\n",
        "  while end<=n:\n",
        "    while end<n and nums[end]-nums[end-1]==1:\n",
        "      end+=1\n",
        "    if end<n:\n",
        "      ans.append([nums[end-1]+1,nums[end]-1])\n",
        "    else:\n",
        "      ans.append([nums[end-1]+1,upper])\n",
        "    end+=1\n",
        "  return ans\n",
        "nums = [3,50,75]\n",
        "lower = 0\n",
        "upper = 99\n",
        "missing_range(nums,lower,upper)"
      ],
      "metadata": {
        "colab": {
          "base_uri": "https://localhost:8080/"
        },
        "id": "chmH_0mhFlEG",
        "outputId": "00171e3a-9dbd-455f-9404-d9dd82ce8616"
      },
      "execution_count": 11,
      "outputs": [
        {
          "output_type": "execute_result",
          "data": {
            "text/plain": [
              "[[0, 2], [4, 49], [51, 74], [76, 99]]"
            ]
          },
          "metadata": {},
          "execution_count": 11
        }
      ]
    },
    {
      "cell_type": "markdown",
      "source": [
        "Question 8\n",
        "\n",
        "Given an array of meeting time intervals where intervals[i] = [starti, endi], determine if a person could attend all meetings.\n",
        "\n",
        "Example 1:\n",
        "\n",
        "Input: intervals = [[0,30],[5,10],[15,20]]\n",
        "\n",
        "Output: false"
      ],
      "metadata": {
        "id": "P8LZyBBec9ac"
      }
    },
    {
      "cell_type": "code",
      "source": [
        "def meeting_times(intervals):\n",
        "  n=len(intervals)\n",
        "  if n==1:\n",
        "    return True\n",
        "  intervals.sort()\n",
        "  for i in range(n-1):\n",
        "    if intervals[i][1]>intervals[i+1][0]:\n",
        "      return False\n",
        "  return True\n",
        "intervals = [[7,10],[2,4]]\n",
        "meeting_times(intervals)"
      ],
      "metadata": {
        "colab": {
          "base_uri": "https://localhost:8080/"
        },
        "id": "s8I9cl5odAc1",
        "outputId": "40fe077d-62ca-48a8-d4fb-05e7147d7319"
      },
      "execution_count": 14,
      "outputs": [
        {
          "output_type": "execute_result",
          "data": {
            "text/plain": [
              "True"
            ]
          },
          "metadata": {},
          "execution_count": 14
        }
      ]
    }
  ]
}