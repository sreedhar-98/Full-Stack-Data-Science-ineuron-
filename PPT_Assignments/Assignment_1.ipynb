{
  "nbformat": 4,
  "nbformat_minor": 0,
  "metadata": {
    "colab": {
      "provenance": []
    },
    "kernelspec": {
      "name": "python3",
      "display_name": "Python 3"
    },
    "language_info": {
      "name": "python"
    }
  },
  "cells": [
    {
      "cell_type": "markdown",
      "source": [
        "<aside>\n",
        "💡 **Q1.** Given an array of integers nums and an integer target, return indices of the two numbers such that they add up to target.\n",
        "\n",
        "You may assume that each input would have exactly one solution, and you may not use the same element twice.\n",
        "\n",
        "You can return the answer in any order.\n",
        "\n",
        "**Example:**\n",
        "Input: nums = [2,7,11,15], target = 9\n",
        "Output0 [0,1]\n",
        "\n",
        "**Explanation:** Because nums[0] + nums[1] == 9, we return [0, 1][\n",
        "\n",
        "</aside>"
      ],
      "metadata": {
        "id": "6ncLCPEoYu4A"
      }
    },
    {
      "cell_type": "code",
      "source": [
        "def two_sum(nums,target):\n",
        "  d={}\n",
        "  for i in range(len(nums)):\n",
        "    elem=target-nums[i]\n",
        "    if elem in d:\n",
        "      return [d[elem],i]\n",
        "    else:\n",
        "      d[nums[i]]=i\n",
        "two_sum([2,7,11,15],9)"
      ],
      "metadata": {
        "colab": {
          "base_uri": "https://localhost:8080/"
        },
        "id": "YJdRtGuQYw-M",
        "outputId": "662402a8-8226-418e-9f1c-4b7f2aeef286"
      },
      "execution_count": 3,
      "outputs": [
        {
          "output_type": "execute_result",
          "data": {
            "text/plain": [
              "[0, 1]"
            ]
          },
          "metadata": {},
          "execution_count": 3
        }
      ]
    },
    {
      "cell_type": "markdown",
      "source": [
        "<aside>\n",
        "💡 **Q2.** Given an integer array nums and an integer val, remove all occurrences of val in nums in-place. The order of the elements may be changed. Then return the number of elements in nums which are not equal to val.\n",
        "\n",
        "Consider the number of elements in nums which are not equal to val be k, to get accepted, you need to do the following things:\n",
        "\n",
        "- Change the array nums such that the first k elements of nums contain the elements which are not equal to val. The remaining elements of nums are not important as well as the size of nums.\n",
        "- Return k.\n",
        "\n",
        "**Example :**\n",
        "Input: nums = [3,2,2,3], val = 3\n",
        "Output: 2, nums = [2,2,_*,_*]\n",
        "\n",
        "**Explanation:** Your function should return k = 2, with the first two elements of nums being 2. It does not matter what you leave beyond the returned k (hence they are underscores)[\n",
        "\n",
        "</aside>"
      ],
      "metadata": {
        "id": "tPmIUFERcUQJ"
      }
    },
    {
      "cell_type": "code",
      "source": [
        "def remove_elements(nums,val):\n",
        "  k=0\n",
        "  for i in range(len(nums)):\n",
        "    if nums[i]!=val:\n",
        "      nums[k]=nums[i]\n",
        "      k+=1\n",
        "  return k\n",
        "nums=[3,2,2,3]\n",
        "val=3\n",
        "print(remove_elements(nums,val))\n",
        "print(nums)"
      ],
      "metadata": {
        "colab": {
          "base_uri": "https://localhost:8080/"
        },
        "id": "1gJVoFhJcU5N",
        "outputId": "898e16b2-5c6b-4c31-fc1b-d4798d173a1d"
      },
      "execution_count": 4,
      "outputs": [
        {
          "output_type": "stream",
          "name": "stdout",
          "text": [
            "2\n",
            "[2, 2, 2, 3]\n"
          ]
        }
      ]
    },
    {
      "cell_type": "markdown",
      "source": [
        "<aside>\n",
        "💡 **Q3.** Given a sorted array of distinct integers and a target value, return the index if the target is found. If not, return the index where it would be if it were inserted in order.\n",
        "\n",
        "You must write an algorithm with O(log n) runtime complexity.\n",
        "\n",
        "**Example 1:**\n",
        "Input: nums = [1,3,5,6], target = 5\n",
        "\n",
        "Output: 2\n",
        "\n",
        "</aside>"
      ],
      "metadata": {
        "id": "L2nQmV4wqe2V"
      }
    },
    {
      "cell_type": "code",
      "source": [
        "def insert_order(nums,target):\n",
        "  low,high=0,len(nums)-1\n",
        "  while low<=high:\n",
        "    mid=(low+high)//2\n",
        "    if nums[mid]==target:\n",
        "      return mid\n",
        "    elif nums[mid]>target:\n",
        "      high=mid-1\n",
        "    else:\n",
        "      low=mid+1\n",
        "  return low\n",
        "nums = [1,3,5,6]\n",
        "target = 5\n",
        "insert_order(nums,target)"
      ],
      "metadata": {
        "colab": {
          "base_uri": "https://localhost:8080/"
        },
        "id": "ryjerZ2UqhiQ",
        "outputId": "80d58b0a-4bb3-4ee4-9998-0735d27687d4"
      },
      "execution_count": 5,
      "outputs": [
        {
          "output_type": "execute_result",
          "data": {
            "text/plain": [
              "2"
            ]
          },
          "metadata": {},
          "execution_count": 5
        }
      ]
    },
    {
      "cell_type": "markdown",
      "source": [
        "<aside>\n",
        "💡 **Q4.** You are given a large integer represented as an integer array digits, where each digits[i] is the ith digit of the integer. The digits are ordered from most significant to least significant in left-to-right order. The large integer does not contain any leading 0's.\n",
        "\n",
        "Increment the large integer by one and return the resulting array of digits.\n",
        "\n",
        "**Example 1:**\n",
        "Input: digits = [1,2,3]\n",
        "Output: [1,2,4]\n",
        "\n",
        "**Explanation:** The array represents the integer 123.\n",
        "\n",
        "Incrementing by one gives 123 + 1 = 124.\n",
        "Thus, the result should be [1,2,4].\n",
        "\n",
        "</aside>"
      ],
      "metadata": {
        "id": "hXz-CpMhuVeX"
      }
    },
    {
      "cell_type": "code",
      "source": [
        "def add_one(digits):\n",
        "  carry=0\n",
        "  i=len(digits)-1\n",
        "  while i>=0:\n",
        "    if digits[i]==9:\n",
        "      digits[i]=0\n",
        "      carry=1\n",
        "    else:\n",
        "      digits[i]+=1\n",
        "      carry=0\n",
        "      break\n",
        "    i-=1\n",
        "  if carry==1:\n",
        "    return [1]+digits\n",
        "  return digits\n",
        "print(add_one([1,2,3]))\n",
        "print(add_one([1,2,9]))\n",
        "print(add_one([9,9,9]))"
      ],
      "metadata": {
        "colab": {
          "base_uri": "https://localhost:8080/"
        },
        "id": "kuE425KruWGf",
        "outputId": "9c89da4b-84a2-47d5-d888-19bab3a76898"
      },
      "execution_count": 10,
      "outputs": [
        {
          "output_type": "stream",
          "name": "stdout",
          "text": [
            "[1, 2, 4]\n",
            "[1, 3, 0]\n",
            "[1, 0, 0, 0]\n"
          ]
        }
      ]
    },
    {
      "cell_type": "markdown",
      "source": [
        "<aside>\n",
        "💡 **Q5.** You are given two integer arrays nums1 and nums2, sorted in non-decreasing order, and two integers m and n, representing the number of elements in nums1 and nums2 respectively.\n",
        "\n",
        "Merge nums1 and nums2 into a single array sorted in non-decreasing order.\n",
        "\n",
        "The final sorted array should not be returned by the function, but instead be stored inside the array nums1. To accommodate this, nums1 has a length of m + n, where the first m elements denote the elements that should be merged, and the last n elements are set to 0 and should be ignored. nums2 has a length of n.\n",
        "\n",
        "**Example 1:**\n",
        "Input: nums1 = [1,2,3,0,0,0], m = 3, nums2 = [2,5,6], n = 3\n",
        "Output: [1,2,2,3,5,6]\n",
        "\n",
        "**Explanation:** The arrays we are merging are [1,2,3] and [2,5,6].\n",
        "The result of the merge is [1,2,2,3,5,6] with the underlined elements coming from nums1.\n",
        "\n",
        "</aside>"
      ],
      "metadata": {
        "id": "aiC2HQGK3euD"
      }
    },
    {
      "cell_type": "code",
      "source": [
        "def merge_sorted_array(nums1,m,nums2,n):\n",
        "  i,j,k=m-1,n-1,(m+n-1)\n",
        "  while j>=0:\n",
        "    if i>=0 and nums1[i]>nums2[j]:\n",
        "      nums1[k]=nums1[i]\n",
        "      k-=1\n",
        "      i-=1\n",
        "    else:\n",
        "      nums1[k]=nums2[j]\n",
        "      k-=1\n",
        "      j-=1\n",
        "nums1 = [1,2,3,0,0,0]\n",
        "m = 3\n",
        "nums2 = [2,5,6]\n",
        "n = 3\n",
        "merge_sorted_array(nums1,m,nums2,n)\n",
        "print(nums1)"
      ],
      "metadata": {
        "colab": {
          "base_uri": "https://localhost:8080/"
        },
        "id": "9Gexwdv53fV1",
        "outputId": "d0d7327a-31ea-4c1f-d1fa-d3007cfacd53"
      },
      "execution_count": 12,
      "outputs": [
        {
          "output_type": "stream",
          "name": "stdout",
          "text": [
            "[1, 2, 2, 3, 5, 6]\n"
          ]
        }
      ]
    },
    {
      "cell_type": "markdown",
      "source": [
        "<aside>\n",
        "💡 **Q6.** Given an integer array nums, return true if any value appears at least twice in the array, and return false if every element is distinct.\n",
        "\n",
        "**Example 1:**\n",
        "Input: nums = [1,2,3,1]\n",
        "\n",
        "Output: true\n",
        "\n",
        "</aside>"
      ],
      "metadata": {
        "id": "4aOzvznxEB7E"
      }
    },
    {
      "cell_type": "code",
      "source": [
        "def duplicate(nums):\n",
        "  s=set()\n",
        "  for i in nums:\n",
        "    if i in s:\n",
        "      return True\n",
        "    s.add(i)\n",
        "  return False\n",
        "nums1=[1,2,3,1]\n",
        "nums2=[1,2,3,4]\n",
        "print(duplicate(nums1))\n",
        "print(duplicate(nums2))"
      ],
      "metadata": {
        "colab": {
          "base_uri": "https://localhost:8080/"
        },
        "id": "gHyNTdozECmz",
        "outputId": "20ccc103-fecd-4719-c61d-6da986474ce9"
      },
      "execution_count": 13,
      "outputs": [
        {
          "output_type": "stream",
          "name": "stdout",
          "text": [
            "True\n",
            "False\n"
          ]
        }
      ]
    },
    {
      "cell_type": "markdown",
      "source": [
        "<aside>\n",
        "💡 **Q7.** Given an integer array nums, move all 0's to the end of it while maintaining the relative order of the nonzero elements.\n",
        "\n",
        "Note that you must do this in-place without making a copy of the array.\n",
        "\n",
        "**Example 1:**\n",
        "Input: nums = [0,1,0,3,12]\n",
        "Output: [1,3,12,0,0]\n",
        "\n",
        "</aside>"
      ],
      "metadata": {
        "id": "o55dot-tE5rj"
      }
    },
    {
      "cell_type": "code",
      "source": [
        "def remove_zeros(nums):\n",
        "  k=0\n",
        "  for i in range(len(nums)):\n",
        "    if nums[i]!=0:\n",
        "      nums[k]=nums[i]\n",
        "      k+=1\n",
        "  while k<len(nums):\n",
        "    nums[k]=0\n",
        "    k+=1\n",
        "nums=[0,1,0,3,12]\n",
        "remove_zeros(nums)\n",
        "print(nums)"
      ],
      "metadata": {
        "colab": {
          "base_uri": "https://localhost:8080/"
        },
        "id": "M-au3kzjE6Xh",
        "outputId": "ae2122fb-72b3-47d1-80f9-2bd59e30ebeb"
      },
      "execution_count": 14,
      "outputs": [
        {
          "output_type": "stream",
          "name": "stdout",
          "text": [
            "[1, 3, 12, 0, 0]\n"
          ]
        }
      ]
    },
    {
      "cell_type": "markdown",
      "source": [
        "<aside>\n",
        "💡 **Q8.** You have a set of integers s, which originally contains all the numbers from 1 to n. Unfortunately, due to some error, one of the numbers in s got duplicated to another number in the set, which results in repetition of one number and loss of another number.\n",
        "\n",
        "You are given an integer array nums representing the data status of this set after the error.\n",
        "\n",
        "Find the number that occurs twice and the number that is missing and return them in the form of an array.\n",
        "\n",
        "**Example 1:**\n",
        "Input: nums = [1,2,2,4]\n",
        "Output: [2,3]\n",
        "\n",
        "</aside>"
      ],
      "metadata": {
        "id": "85_aM8lSGWnc"
      }
    },
    {
      "cell_type": "code",
      "source": [
        "def find_duplicates_missing(nums):\n",
        "  dup,miss=-1,-1\n",
        "  for i in range(len(nums)):\n",
        "    if nums[abs(nums[i])-1]<0:\n",
        "      dup=abs(nums[i])\n",
        "    else:\n",
        "      nums[abs(nums[i])-1]*=-1\n",
        "  for i in range(len(nums)):\n",
        "    if nums[i]>0:\n",
        "      miss=i+1\n",
        "  return [dup,miss]\n",
        "find_duplicates_missing([1,2,2,4])"
      ],
      "metadata": {
        "colab": {
          "base_uri": "https://localhost:8080/"
        },
        "id": "KQhrrMipGXFz",
        "outputId": "46efa1ad-437b-425e-d4f5-65b4057116c7"
      },
      "execution_count": 15,
      "outputs": [
        {
          "output_type": "execute_result",
          "data": {
            "text/plain": [
              "[2, 3]"
            ]
          },
          "metadata": {},
          "execution_count": 15
        }
      ]
    }
  ]
}