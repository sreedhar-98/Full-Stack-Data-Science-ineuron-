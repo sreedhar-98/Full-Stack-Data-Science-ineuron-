{
  "nbformat": 4,
  "nbformat_minor": 0,
  "metadata": {
    "colab": {
      "provenance": []
    },
    "kernelspec": {
      "name": "python3",
      "display_name": "Python 3"
    },
    "language_info": {
      "name": "python"
    }
  },
  "cells": [
    {
      "cell_type": "markdown",
      "source": [
        "Question 1\n",
        "Given an integer array nums of 2n integers, group these integers into n pairs (a1, b1), (a2, b2),\n",
        "..., (an, bn) such that the sum of min(ai, bi) for all i is maximized. Return the maximized sum.\n",
        "\n",
        "Example 1:\n",
        "Input: nums = [1,4,3,2]\n",
        "Output: 4\n",
        "Explanation: All possible pairings (ignoring the ordering of elements) are:\n",
        "1. (1, 4), (2, 3) -> min(1, 4) + min(2, 3) = 1 + 2 = 3\n",
        "2. (1, 3), (2, 4) -> min(1, 3) + min(2, 4) = 1 + 2 = 3\n",
        "3. (1, 2), (3, 4) -> min(1, 2) + min(3, 4) = 1 + 3 = 4\n",
        "So the maximum possible sum is 4"
      ],
      "metadata": {
        "id": "ol9zol6DZErA"
      }
    },
    {
      "cell_type": "code",
      "source": [
        "def max_sum_pairs(nums):\n",
        "  nums.sort()\n",
        "  add=0\n",
        "  for i in range(len(nums)-2,-1,-2):\n",
        "    add+=nums[i]\n",
        "  return add\n",
        "nums = [1,4,3,2]\n",
        "max_sum_pairs(nums)"
      ],
      "metadata": {
        "colab": {
          "base_uri": "https://localhost:8080/"
        },
        "id": "YghQ16FxZIIu",
        "outputId": "931beec2-f4ff-454c-a0fd-9ba3bdbcaf09"
      },
      "execution_count": null,
      "outputs": [
        {
          "output_type": "execute_result",
          "data": {
            "text/plain": [
              "4"
            ]
          },
          "metadata": {},
          "execution_count": 1
        }
      ]
    },
    {
      "cell_type": "markdown",
      "source": [
        "Question 2\n",
        "Alice has n candies, where the ith candy is of type candyType[i]. Alice noticed that she started\n",
        "to gain weight, so she visited a doctor.\n",
        "The doctor advised Alice to only eat n / 2 of the candies she has (n is always even). Alice\n",
        "likes her candies very much, and she wants to eat the maximum number of different types of\n",
        "candies while still following the doctor's advice.\n",
        "Given the integer array candyType of length n, return the maximum number of different types\n",
        "of candies she can eat if she only eats n / 2 of them.\n",
        "\n",
        "\n",
        "Example 1:\n",
        "\n",
        "\n",
        "Input: candyType = [1,1,2,2,3,3]\n",
        "Output: 3\n",
        "\n",
        "\n",
        "Explanation: Alice can only eat 6 / 2 = 3 candies. Since there are only 3 types, she can eat one\n",
        "of each type."
      ],
      "metadata": {
        "id": "ey2rtbEqbtQr"
      }
    },
    {
      "cell_type": "code",
      "source": [
        "def candies(candyType):\n",
        "  allowed=len(candyType)//2\n",
        "  candyType=set(candyType)\n",
        "  cat=len(candyType)\n",
        "  if allowed>=cat:\n",
        "    return cat\n",
        "  return allowed\n",
        "candyType = [1,1,2,2,3,3]\n",
        "candies(candyType)\n"
      ],
      "metadata": {
        "colab": {
          "base_uri": "https://localhost:8080/"
        },
        "id": "TnTyBwC0byMc",
        "outputId": "188c642e-77b3-49c4-9b94-1e2bd4a4a1f2"
      },
      "execution_count": null,
      "outputs": [
        {
          "output_type": "execute_result",
          "data": {
            "text/plain": [
              "3"
            ]
          },
          "metadata": {},
          "execution_count": 2
        }
      ]
    },
    {
      "cell_type": "markdown",
      "source": [
        "Question 3\n",
        "We define a harmonious array as an array where the difference between its maximum value\n",
        "and its minimum value is exactly 1.\n",
        "\n",
        "\n",
        "Given an integer array nums, return the length of its longest harmonious subsequence\n",
        "among all its possible subsequences.\n",
        "\n",
        "\n",
        "A subsequence of an array is a sequence that can be derived from the array by deleting some\n",
        "or no elements without changing the order of the remaining elements.\n",
        "\n",
        "\n",
        "Example 1:\n",
        "\n",
        "\n",
        "Input: nums = [1,3,2,2,5,2,3,7]\n",
        "\n",
        "\n",
        "Output: 5\n",
        "\n",
        "\n",
        "Explanation: The longest harmonious subsequence is [3,2,2,2,3]."
      ],
      "metadata": {
        "id": "AoJaL9CPf5s8"
      }
    },
    {
      "cell_type": "markdown",
      "source": [
        "The logic behind this question is to find the occurences of nums[i] and nums[i+1](if exists) and find the maximum sum of these two occurences.Here there is no need to return the subsequence found instead the max length has to be returned, so the ordering of elements is not necessary."
      ],
      "metadata": {
        "id": "N2dmGD1gf-yi"
      }
    },
    {
      "cell_type": "code",
      "source": [
        "def harmonious_subsequence(nums):\n",
        "  d={}\n",
        "  for i in nums:\n",
        "    if i in d:\n",
        "      d[i]+=1\n",
        "    else:\n",
        "      d[i]=1\n",
        "  ans=0\n",
        "  for i in nums:\n",
        "    if i+1 in d:\n",
        "      ans=max(ans,d[i+1]+d[i])\n",
        "  return ans\n",
        "nums = [1,3,2,2,5,2,3,7]\n",
        "harmonious_subsequence(nums)"
      ],
      "metadata": {
        "colab": {
          "base_uri": "https://localhost:8080/"
        },
        "id": "rdYJUatGf9ls",
        "outputId": "d0dac33e-c982-4c13-8cd8-af16fc794068"
      },
      "execution_count": null,
      "outputs": [
        {
          "output_type": "execute_result",
          "data": {
            "text/plain": [
              "5"
            ]
          },
          "metadata": {},
          "execution_count": 3
        }
      ]
    },
    {
      "cell_type": "markdown",
      "source": [
        "Question 4\n",
        "You have a long flowerbed in which some of the plots are planted, and some are not.\n",
        "However, flowers cannot be planted in adjacent plots.\n",
        "Given an integer array flowerbed containing 0's and 1's, where 0 means empty and 1 means\n",
        "not empty, and an integer n, return true if n new flowers can be planted in the flowerbed\n",
        "without violating the no-adjacent-flowers rule and false otherwise.\n",
        "\n",
        "\n",
        "Example 1:\n",
        "\n",
        "\n",
        "Input: flowerbed = [1,0,0,0,1], n = 1\n",
        "\n",
        "\n",
        "Output: true"
      ],
      "metadata": {
        "id": "z3JGz7hlrspe"
      }
    },
    {
      "cell_type": "code",
      "source": [
        "def plots_planted(flowerbed,n):\n",
        "  l=len(flowerbed)\n",
        "  for i in range(l):\n",
        "    if flowerbed[i]==0 and (i==0 or flowerbed[i-1]==0) and (i==l-1 or flowerbed[i+1]==0):\n",
        "      n-=1\n",
        "      flowerbed[i]=1\n",
        "  return n<=0\n",
        "flowerbed = [1,0,0,0,1]\n",
        "n=1\n",
        "plots_planted(flowerbed,n)"
      ],
      "metadata": {
        "colab": {
          "base_uri": "https://localhost:8080/"
        },
        "id": "xYou8hrSrunM",
        "outputId": "b97aa62e-0c0d-4c93-ae58-221d763334bb"
      },
      "execution_count": null,
      "outputs": [
        {
          "output_type": "execute_result",
          "data": {
            "text/plain": [
              "True"
            ]
          },
          "metadata": {},
          "execution_count": 5
        }
      ]
    },
    {
      "cell_type": "markdown",
      "source": [
        "Given an integer array nums, find three numbers whose product is maximum and return the\n",
        "maximum product.\n",
        "\n",
        "Example 1:\n",
        "\n",
        "Input: nums = [1,2,3]\n",
        "\n",
        "Output: 6"
      ],
      "metadata": {
        "id": "nNXmdQhIEcxg"
      }
    },
    {
      "cell_type": "code",
      "source": [
        "def max_product(arr):\n",
        "  min1=min2=float('inf')\n",
        "  max1=max2=max3=float('-inf')\n",
        "  for i in arr:\n",
        "    if i<=min1:\n",
        "      min2=min1\n",
        "      min1=i\n",
        "    elif i<=min2:\n",
        "      min2=i\n",
        "    if i>=max1:\n",
        "      max3=max2\n",
        "      max2=max1\n",
        "      max1=i\n",
        "    elif i>=max2:\n",
        "      max3=max2\n",
        "      max2=i\n",
        "    elif i>=max3:\n",
        "      max3=i\n",
        "  return max((min1*min2*max1),(max1*max2*max3))\n",
        "nums = [1,2,3,4]\n",
        "max_product(nums)"
      ],
      "metadata": {
        "colab": {
          "base_uri": "https://localhost:8080/"
        },
        "id": "fKZFK719EfzV",
        "outputId": "d6c2329f-9e81-4dba-ef3e-b9242cfedb94"
      },
      "execution_count": null,
      "outputs": [
        {
          "output_type": "execute_result",
          "data": {
            "text/plain": [
              "24"
            ]
          },
          "metadata": {},
          "execution_count": 7
        }
      ]
    },
    {
      "cell_type": "markdown",
      "source": [
        "Question 6\n",
        "\n",
        "Given an array of integers nums which is sorted in ascending order, and an integer target,\n",
        "write a function to search target in nums. If target exists, then return its index. Otherwise,\n",
        "return -1.\n",
        "\n",
        "You must write an algorithm with O(log n) runtime complexity.\n",
        "\n",
        "Input: nums = [-1,0,3,5,9,12], target = 9\n",
        "\n",
        "Output: 4\n",
        "\n",
        "\n",
        "Explanation: 9 exists in nums and its index is 4"
      ],
      "metadata": {
        "id": "4BAWJcmGFmSQ"
      }
    },
    {
      "cell_type": "code",
      "source": [
        "def binary_search(nums,target):\n",
        "  low,high=0,len(nums)-1\n",
        "  while low<=high:\n",
        "    mid=(low+high)//2\n",
        "    if nums[mid]==target:\n",
        "      return mid\n",
        "    elif nums[mid]>target:\n",
        "      high=mid-1\n",
        "    else:\n",
        "      low=mid+1\n",
        "  return -1\n",
        "nums = [-1,0,3,5,9,12]\n",
        "target = 9\n",
        "binary_search(nums,target)"
      ],
      "metadata": {
        "colab": {
          "base_uri": "https://localhost:8080/"
        },
        "id": "JubXwkk4FrUk",
        "outputId": "930ffe9c-083c-47ec-dc6e-3b266971e9ce"
      },
      "execution_count": null,
      "outputs": [
        {
          "output_type": "execute_result",
          "data": {
            "text/plain": [
              "4"
            ]
          },
          "metadata": {},
          "execution_count": 8
        }
      ]
    },
    {
      "cell_type": "markdown",
      "source": [
        "Question 7\n",
        "\n",
        "An array is monotonic if it is either monotone increasing or monotone decreasing.\n",
        "\n",
        "An array nums is monotone increasing if for all i <= j, nums[i] <= nums[j]. An array nums is\n",
        "monotone decreasing if for all i <= j, nums[i] >= nums[j].\n",
        "\n",
        "Given an integer array nums, return true if the given array is monotonic, or false otherwise.\n",
        "\n",
        "Example 1:\n",
        "\n",
        "Input: nums = [1,2,2,3]\n",
        "\n",
        "Output: true"
      ],
      "metadata": {
        "id": "2yv3gnY-Hy-C"
      }
    },
    {
      "cell_type": "code",
      "source": [
        "def is_monotonic(nums):\n",
        "  if len(nums)==1:\n",
        "    return True\n",
        "  inc=dec=True\n",
        "  for i in range(1,len(nums)):\n",
        "    if nums[i]>nums[i-1]:\n",
        "      dec=False\n",
        "      if nums[i]<nums[i-1]:\n",
        "        inc=False\n",
        "  return inc or dec\n",
        "nums=[1,2,2,3]\n",
        "is_monotonic(nums)"
      ],
      "metadata": {
        "colab": {
          "base_uri": "https://localhost:8080/"
        },
        "id": "xm3I6JmSHoMI",
        "outputId": "374577ae-71a8-4b7a-dfac-4e0644752889"
      },
      "execution_count": null,
      "outputs": [
        {
          "output_type": "execute_result",
          "data": {
            "text/plain": [
              "True"
            ]
          },
          "metadata": {},
          "execution_count": 9
        }
      ]
    },
    {
      "cell_type": "markdown",
      "source": [
        "Question 8\n",
        "\n",
        "\n",
        "You are given an integer array nums and an integer k.\n",
        "In one operation, you can choose any index i where 0 <= i < nums.length and change nums[i] to nums[i] + x where x is an integer from the range [-k, k]. You can apply this operation at most once for each index i.\n",
        "\n",
        "\n",
        "The score of nums is the difference between the maximum and minimum elements in nums.\n",
        "\n",
        "\n",
        "Return the minimum score of nums after applying the mentioned operation at most once for each index in it.\n",
        "\n",
        "Example 1:\n",
        "\n",
        "Input: nums = [1], k = 0\n",
        "\n",
        "Output: 0\n",
        "\n",
        "Explanation: The score is max(nums) - min(nums) = 1 - 1 = 0."
      ],
      "metadata": {
        "id": "LEWNi-WILxyw"
      }
    },
    {
      "cell_type": "code",
      "source": [
        "def smallestRange(nums,k):\n",
        "  mi,ma=min(nums),max(nums)\n",
        "  if (mi+k)>=(ma-k):\n",
        "    return 0\n",
        "  return (ma-k)-(mi+k)\n",
        "nums=[1,3,7]\n",
        "k=3\n",
        "smallestRange(nums,k)"
      ],
      "metadata": {
        "id": "t_xiQcjNL82i",
        "colab": {
          "base_uri": "https://localhost:8080/"
        },
        "outputId": "87dea0bb-978e-48ab-af1f-6d979d68bae8"
      },
      "execution_count": 2,
      "outputs": [
        {
          "output_type": "execute_result",
          "data": {
            "text/plain": [
              "0"
            ]
          },
          "metadata": {},
          "execution_count": 2
        }
      ]
    }
  ]
}