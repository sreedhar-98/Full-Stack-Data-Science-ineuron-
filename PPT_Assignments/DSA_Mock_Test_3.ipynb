{
  "nbformat": 4,
  "nbformat_minor": 0,
  "metadata": {
    "colab": {
      "provenance": []
    },
    "kernelspec": {
      "name": "python3",
      "display_name": "Python 3"
    },
    "language_info": {
      "name": "python"
    }
  },
  "cells": [
    {
      "cell_type": "markdown",
      "source": [
        "Implement a stack using a list in Python. Include the necessary methods such as push, pop, and isEmpty."
      ],
      "metadata": {
        "id": "pXV65SVD529P"
      }
    },
    {
      "cell_type": "code",
      "source": [
        "class Stack:\n",
        "  def __init__(self):\n",
        "    self.stack=[]\n",
        "  def push(self,elem):\n",
        "    self.stack.append(elem)\n",
        "  def pop(self):\n",
        "    if self.isEmpty():\n",
        "      return \"Stack is empty. Cannot pop an element from empty stack\"\n",
        "    return self.stack.pop()\n",
        "  def isEmpty(self):\n",
        "    if not self.stack:\n",
        "      return True\n",
        "    return False\n",
        "  def display(self):\n",
        "    print(self.stack)\n",
        "\n",
        "stack=Stack()\n",
        "stack.push(2)\n",
        "stack.push(3)\n",
        "stack.display()\n",
        "print(stack.pop())\n",
        "print(stack.pop())\n",
        "stack.display()\n",
        "print(stack.pop())"
      ],
      "metadata": {
        "colab": {
          "base_uri": "https://localhost:8080/"
        },
        "id": "-DWVubbw54on",
        "outputId": "a3f833e4-4983-4d52-c7a7-0fea45209536"
      },
      "execution_count": 1,
      "outputs": [
        {
          "output_type": "stream",
          "name": "stdout",
          "text": [
            "[2, 3]\n",
            "3\n",
            "2\n",
            "[]\n",
            "Stack is empty. Cannot pop an element from empty stack\n"
          ]
        }
      ]
    },
    {
      "cell_type": "markdown",
      "source": [
        "Implement a queue using a list in Python. Include the necessary methods such as enqueue, dequeue, and isEmpty."
      ],
      "metadata": {
        "id": "WILLt6JT8Etq"
      }
    },
    {
      "cell_type": "code",
      "source": [
        "class Queue:\n",
        "  def __init__(self):\n",
        "    self.queue=[]\n",
        "  def enqueue(self,elem):\n",
        "    self.queue.append(elem)\n",
        "  def dequeue(self):\n",
        "    if self.isEmpty():\n",
        "      return \"Queue is empty.\"\n",
        "    return self.queue.pop(0)\n",
        "  def isEmpty(self):\n",
        "    if not self.queue:\n",
        "      return True\n",
        "    return False\n",
        "  def display(self):\n",
        "    print(self.queue)\n",
        "\n",
        "q=Queue()\n",
        "q.enqueue(2)\n",
        "q.enqueue(5)\n",
        "q.enqueue(7)\n",
        "q.display()\n",
        "q.dequeue()\n",
        "q.display()\n",
        "q.dequeue()\n",
        "q.display()\n",
        "q.dequeue()\n",
        "q.dequeue()"
      ],
      "metadata": {
        "colab": {
          "base_uri": "https://localhost:8080/",
          "height": 90
        },
        "id": "QMj5Xc1q8F4i",
        "outputId": "1534e0a1-3154-4676-d5c0-077cf3823eb4"
      },
      "execution_count": 6,
      "outputs": [
        {
          "output_type": "stream",
          "name": "stdout",
          "text": [
            "[2, 5, 7]\n",
            "[5, 7]\n",
            "[7]\n"
          ]
        },
        {
          "output_type": "execute_result",
          "data": {
            "text/plain": [
              "'Queue is empty.'"
            ],
            "application/vnd.google.colaboratory.intrinsic+json": {
              "type": "string"
            }
          },
          "metadata": {},
          "execution_count": 6
        }
      ]
    },
    {
      "cell_type": "code",
      "source": [],
      "metadata": {
        "id": "jq0P1OTxD93F"
      },
      "execution_count": null,
      "outputs": []
    }
  ]
}