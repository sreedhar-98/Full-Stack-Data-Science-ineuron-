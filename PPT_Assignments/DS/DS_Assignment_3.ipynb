{
  "nbformat": 4,
  "nbformat_minor": 0,
  "metadata": {
    "colab": {
      "provenance": []
    },
    "kernelspec": {
      "name": "python3",
      "display_name": "Python 3"
    },
    "language_info": {
      "name": "python"
    }
  },
  "cells": [
    {
      "cell_type": "code",
      "source": [
        "import numpy as np\n",
        "import statistics as st\n",
        "import scipy.stats as sst\n",
        "import math"
      ],
      "metadata": {
        "id": "SIqx8IOZhTwv"
      },
      "execution_count": 41,
      "outputs": []
    },
    {
      "cell_type": "markdown",
      "source": [
        "1. Scenario: A company wants to analyze the sales performance of its products in different regions. They have collected the following data:\n",
        "   Region A: [10, 15, 12, 8, 14]\n",
        "   Region B: [18, 20, 16, 22, 25]\n",
        "   Calculate the mean sales for each region.\n"
      ],
      "metadata": {
        "id": "8A4tK4idgkJy"
      }
    },
    {
      "cell_type": "code",
      "source": [
        "A=[10, 15, 12, 8, 14]\n",
        "B=[18, 20, 16, 22, 25]\n",
        "print(\"Mean sales of region A is : \",np.mean(A))\n",
        "print(\"Mean sales of region B is : \",np.mean(B))"
      ],
      "metadata": {
        "colab": {
          "base_uri": "https://localhost:8080/"
        },
        "id": "RY3ZYM7-glUP",
        "outputId": "7213b57b-3c57-4a7e-8a4c-1b3fe05d9a13"
      },
      "execution_count": null,
      "outputs": [
        {
          "output_type": "stream",
          "name": "stdout",
          "text": [
            "Mean sales of region A is :  11.8\n",
            "Mean sales of region B is :  20.2\n"
          ]
        }
      ]
    },
    {
      "cell_type": "markdown",
      "source": [
        "2. Scenario: A survey is conducted to measure customer satisfaction on a scale of 1 to 5. The data collected is as follows:\n",
        "   [4, 5, 2, 3, 5, 4, 3, 2, 4, 5]\n",
        "   Calculate the mode of the survey responses."
      ],
      "metadata": {
        "id": "zECDjEpMhhPe"
      }
    },
    {
      "cell_type": "code",
      "source": [
        "arr=[4, 5, 2, 3, 5, 4, 3, 2, 4, 5]\n",
        "print(\"The mode of the above responses are : \",st.mode(arr))"
      ],
      "metadata": {
        "colab": {
          "base_uri": "https://localhost:8080/"
        },
        "id": "S9IQsPC5hj4F",
        "outputId": "585a5e84-e125-491d-d815-228835f1b906"
      },
      "execution_count": null,
      "outputs": [
        {
          "output_type": "stream",
          "name": "stdout",
          "text": [
            "The mode of the above responses are :  4\n"
          ]
        }
      ]
    },
    {
      "cell_type": "markdown",
      "source": [
        "3. Scenario: A company wants to compare the salaries of two departments. The salary data for Department A and Department B are as follows:\n",
        "   Department A: [5000, 6000, 5500, 7000]\n",
        "   Department B: [4500, 5500, 5800, 6000, 5200]\n",
        "   Calculate the median salary for each department.\n"
      ],
      "metadata": {
        "id": "k2CUOe1Nh2s3"
      }
    },
    {
      "cell_type": "code",
      "source": [
        "A=[5000, 6000, 5500, 7000]\n",
        "B=[4500, 5500, 5800, 6000, 5200]\n",
        "print(\"Median salary of Department A is : \",np.median(A))\n",
        "print(\"Median salary of Department B is : \",np.median(B))"
      ],
      "metadata": {
        "colab": {
          "base_uri": "https://localhost:8080/"
        },
        "id": "FiioU54uh4y5",
        "outputId": "43265625-9585-49f7-cd21-ff67236f1663"
      },
      "execution_count": null,
      "outputs": [
        {
          "output_type": "stream",
          "name": "stdout",
          "text": [
            "Median salary of Department A is :  5750.0\n",
            "Median salary of Department B is :  5500.0\n"
          ]
        }
      ]
    },
    {
      "cell_type": "markdown",
      "source": [
        "4. Scenario: A data analyst wants to determine the variability in the daily stock prices of a company. The data collected is as follows:\n",
        "   [25.5, 24.8, 26.1, 25.3, 24.9]\n",
        "   Calculate the range of the stock prices."
      ],
      "metadata": {
        "id": "xU_Y7AuwiGc-"
      }
    },
    {
      "cell_type": "code",
      "source": [
        "dat=  [25.5, 24.8, 26.1, 25.3, 24.9]\n",
        "print(\"The range of the stock prices are : \",max(dat)-min(dat))"
      ],
      "metadata": {
        "colab": {
          "base_uri": "https://localhost:8080/"
        },
        "id": "c0SfVvYoiVCC",
        "outputId": "35aa6ccf-d450-42f8-e4c9-e3252f2d08de"
      },
      "execution_count": null,
      "outputs": [
        {
          "output_type": "stream",
          "name": "stdout",
          "text": [
            "The range of the stock prices are :  1.3000000000000007\n"
          ]
        }
      ]
    },
    {
      "cell_type": "markdown",
      "source": [
        "5. Scenario: A study is conducted to compare the performance of two different teaching methods. The test scores of the students in each group are as follows:\n",
        "   Group A: [85, 90, 92, 88, 91]\n",
        "   Group B: [82, 88, 90, 86, 87]\n",
        "   Perform a t-test to determine if there is a significant difference in the mean scores between the two groups.\n"
      ],
      "metadata": {
        "id": "VIk9uKuNihMP"
      }
    },
    {
      "cell_type": "markdown",
      "source": [
        "H0 => µ1 = µ2 (population mean of Group A is equal to Group B)\n",
        "\n",
        "HA => µ1 ≠µ2 (population mean of Group A is different from Group B)"
      ],
      "metadata": {
        "id": "DOBzFN5rjdjP"
      }
    },
    {
      "cell_type": "code",
      "source": [
        "A=[85, 90, 92, 88, 91]\n",
        "B=[82, 88, 90, 86, 87]\n",
        "_,p=sst.ttest_ind(A,B)\n",
        "alpha=0.05\n",
        "if p>alpha:\n",
        "  print(\"population mean of Group A is equal to Group B\")\n",
        "else:\n",
        "  print(\"population mean of Group A is not equal to Group B\")"
      ],
      "metadata": {
        "colab": {
          "base_uri": "https://localhost:8080/"
        },
        "id": "sQHrGMoXijNP",
        "outputId": "98b36fbf-7fb4-4987-b5ea-ed561cf81d40"
      },
      "execution_count": null,
      "outputs": [
        {
          "output_type": "stream",
          "name": "stdout",
          "text": [
            "population mean of Group A is equal to Group B\n"
          ]
        }
      ]
    },
    {
      "cell_type": "markdown",
      "source": [
        "6. Scenario: A company wants to analyze the relationship between advertising expenditure and sales. The data collected is as follows:\n",
        "   Advertising Expenditure (in thousands): [10, 15, 12, 8, 14]\n",
        "   Sales (in thousands): [25, 30, 28, 20, 26]\n",
        "   Calculate the correlation coefficient between advertising expenditure and sales.\n"
      ],
      "metadata": {
        "id": "IwiqIa2IlqkI"
      }
    },
    {
      "cell_type": "code",
      "source": [
        "exp=[10, 15, 12, 8, 14]\n",
        "sales=[25, 30, 28, 20, 26]\n",
        "coeff=np.corrcoef(exp,sales)[0][1]\n",
        "if coeff>0:\n",
        "  print(\"There is a positive correlation between Expenditure and Sales. The magnitude is : \",coeff)\n",
        "elif coeff<0:\n",
        "  print(\"There is a negative correlation between Expenditure and Sales. The magnitude is : \",coeff)\n",
        "else:\n",
        "  print(\"There is no correlation between Expenditure and Sales\")"
      ],
      "metadata": {
        "colab": {
          "base_uri": "https://localhost:8080/"
        },
        "id": "2jMj0nKWlrN_",
        "outputId": "b84b570b-04ef-4520-87c0-1b8bb5090626"
      },
      "execution_count": null,
      "outputs": [
        {
          "output_type": "stream",
          "name": "stdout",
          "text": [
            "There is a positive correlation between Expenditure and Sales. The magnitude is :  0.8757511375750132\n"
          ]
        }
      ]
    },
    {
      "cell_type": "markdown",
      "source": [
        "7. Scenario: A survey is conducted to measure the heights of a group of people. The data collected is as follows:\n",
        "   [160, 170, 165, 155, 175, 180, 170]\n",
        "   Calculate the standard deviation of the heights.\n"
      ],
      "metadata": {
        "id": "GI57g4MzmqLP"
      }
    },
    {
      "cell_type": "code",
      "source": [
        "dat=[160, 170, 165, 155, 175, 180, 170]\n",
        "print(\"Standard Deviation of the data is : \",np.std(dat))"
      ],
      "metadata": {
        "colab": {
          "base_uri": "https://localhost:8080/"
        },
        "id": "n_mZzLyYmqyF",
        "outputId": "edc2e416-042e-4bf4-bad2-c3880e73626b"
      },
      "execution_count": null,
      "outputs": [
        {
          "output_type": "stream",
          "name": "stdout",
          "text": [
            "Standard Deviation of the data is :  7.953949089757174\n"
          ]
        }
      ]
    },
    {
      "cell_type": "markdown",
      "source": [
        "8. Scenario: A company wants to analyze the relationship between employee tenure and job satisfaction. The data collected is as follows:\n",
        "   Employee Tenure (in years): [2, 3, 5, 4, 6, 2, 4]\n",
        "   Job Satisfaction (on a scale of 1 to 10): [7, 8, 6, 9, 5, 7, 6]\n",
        "   Perform a linear regression analysis to predict job satisfaction based on employee tenure.\n"
      ],
      "metadata": {
        "id": "TqI4ZSFRm1Kp"
      }
    },
    {
      "cell_type": "code",
      "source": [
        "tenure=[2, 3, 5, 4, 6, 2, 4]\n",
        "satisfaction=[7, 8, 6, 9, 5, 7, 6]\n",
        "corr=np.corrcoef(tenure,satisfaction)[0][1]\n",
        "std_satisfaction=np.std(satisfaction)\n",
        "std_tenure=np.std(tenure)\n",
        "slope=corr*(std_satisfaction/std_tenure)\n",
        "c=np.mean(satisfaction)-slope*(np.mean(tenure))\n",
        "print(slope)\n",
        "print(c)"
      ],
      "metadata": {
        "colab": {
          "base_uri": "https://localhost:8080/"
        },
        "id": "CuF0oos9HvLA",
        "outputId": "76762893-2cb5-4f10-e503-e82bf485b965"
      },
      "execution_count": null,
      "outputs": [
        {
          "output_type": "stream",
          "name": "stdout",
          "text": [
            "-0.46808510638297873\n",
            "8.595744680851064\n"
          ]
        }
      ]
    },
    {
      "cell_type": "markdown",
      "source": [
        "9. Scenario: A study is conducted to compare the effectiveness of two different medications. The recovery times of the patients in each group are as follows:\n",
        "   Medication A: [10, 12, 14, 11, 13]\n",
        "   Medication B: [15, 17, 16, 14, 18]\n",
        "   Perform an analysis of variance (ANOVA) to determine if there is a significant difference in the mean recovery times between the two medications.\n"
      ],
      "metadata": {
        "id": "hnHy5TlWM7gR"
      }
    },
    {
      "cell_type": "markdown",
      "source": [
        "H0 (null hypothesis): μ1 = μ2  (It implies that there is no significant difference in the mean recovery times between the two medications).\n",
        "H1 (null hypothesis): It states that there is a significant difference in the mean recovery times between the two medications."
      ],
      "metadata": {
        "id": "tfSS4WfcNqv3"
      }
    },
    {
      "cell_type": "code",
      "source": [
        "A=[10, 12, 14, 11, 13]\n",
        "B= [15, 17, 16, 14, 18]\n",
        "_,p=sst.f_oneway(A,B)\n",
        "if p<0.05:\n",
        "  print(\"There is a significant difference in the mean recovery times between the two medications\")\n",
        "else:\n",
        "  print(\"There is no significant difference in the mean recovery times between the two medications\")"
      ],
      "metadata": {
        "colab": {
          "base_uri": "https://localhost:8080/"
        },
        "id": "bd9mpO7bNEv6",
        "outputId": "fe617f52-2e2c-472f-8257-4648b77a5398"
      },
      "execution_count": null,
      "outputs": [
        {
          "output_type": "stream",
          "name": "stdout",
          "text": [
            "There is a significant difference in the mean recovery times between the two medications\n"
          ]
        }
      ]
    },
    {
      "cell_type": "markdown",
      "source": [
        "10. Scenario: A company wants to analyze customer feedback ratings on a scale of 1 to 10. The data collected is as follows:\n",
        "    [8, 9, 7, 6, 8, 10, 9, 8, 7, 8]\n",
        "    Calculate the 75th percentile of the feedback ratings."
      ],
      "metadata": {
        "id": "32bEEgdBONtZ"
      }
    },
    {
      "cell_type": "code",
      "source": [
        "arr=[8, 9, 7, 6, 8, 10, 9, 8, 7, 8]\n",
        "print(\"The 75th percentile of the data is : \",math.ceil(np.percentile(arr,q=75)))"
      ],
      "metadata": {
        "colab": {
          "base_uri": "https://localhost:8080/"
        },
        "id": "bycHxOWwORWP",
        "outputId": "07524414-80fa-456b-9409-0284dc72d535"
      },
      "execution_count": null,
      "outputs": [
        {
          "output_type": "stream",
          "name": "stdout",
          "text": [
            "The 75th percentile of the data is :  9\n"
          ]
        }
      ]
    },
    {
      "cell_type": "markdown",
      "source": [
        "11. Scenario: A quality control department wants to test the weight consistency of a product. The weights of a sample of products are as follows:\n",
        "    [10.2, 9.8, 10.0, 10.5, 10.3, 10.1]\n",
        "    Perform a hypothesis test to determine if the mean weight differs significantly from 10 grams\n"
      ],
      "metadata": {
        "id": "49YSEebGQt8J"
      }
    },
    {
      "cell_type": "code",
      "source": [
        "dat=[10.2, 9.8, 10.0, 10.5, 10.3, 10.1]\n",
        "_,p=sst.ttest_1samp(dat,popmean=10)\n",
        "if p<0.05:\n",
        "  print(\"The mean weight differs significantly from 10 grams\")\n",
        "else:\n",
        "  print(\"The mean is 10 grams\")"
      ],
      "metadata": {
        "colab": {
          "base_uri": "https://localhost:8080/"
        },
        "id": "ecdc6GKNQzF2",
        "outputId": "2413d0ae-2b5c-47f4-ec4d-911c85c07a9b"
      },
      "execution_count": null,
      "outputs": [
        {
          "output_type": "stream",
          "name": "stdout",
          "text": [
            "The mean is 10 grams\n"
          ]
        }
      ]
    },
    {
      "cell_type": "markdown",
      "source": [
        "12. Scenario: A company wants to analyze the click-through rates of two different website designs. The number of clicks for each design is as follows:\n",
        "    Design A: [100, 120, 110, 90, 95]\n",
        "    Design B: [80, 85, 90, 95, 100]\n",
        "    Perform a chi-square test to determine if there is a significant difference in the click-through rates between the two designs.\n"
      ],
      "metadata": {
        "id": "3O8mKTBcS-3D"
      }
    },
    {
      "cell_type": "code",
      "source": [
        "A=[100, 120, 110, 90, 95]\n",
        "B=[80, 85, 90, 95, 100]\n",
        "observed=[A,B]\n",
        "_,p,_,_=sst.chi2_contingency(observed)\n",
        "if p<0.05:\n",
        "  print(\"There is a significant difference in the click-through rates between the two designs.\")\n",
        "else:\n",
        "  print(\"There is no significant difference in the click-through rates between the two designs.\")"
      ],
      "metadata": {
        "colab": {
          "base_uri": "https://localhost:8080/"
        },
        "id": "5PCnEE8cS_fV",
        "outputId": "ba07542b-ae65-4023-ee15-1063af6d456a"
      },
      "execution_count": null,
      "outputs": [
        {
          "output_type": "stream",
          "name": "stdout",
          "text": [
            "There is no significant difference in the click-through rates between the two designs.\n"
          ]
        }
      ]
    },
    {
      "cell_type": "markdown",
      "source": [
        "13. Scenario: A survey is conducted to measure customer satisfaction with a product on a scale of 1 to 10. The data collected is as follows:\n",
        "    [7, 9, 6, 8, 10, 7, 8, 9, 7, 8]\n",
        "    Calculate the 95% confidence interval for the population mean satisfaction score.\n"
      ],
      "metadata": {
        "id": "8NovOl0pePv-"
      }
    },
    {
      "cell_type": "code",
      "source": [
        "dat=[7, 9, 6, 8, 10, 7, 8, 9, 7, 8]\n",
        "mean=np.mean(dat)\n",
        "interval=sst.t.interval(confidence=0.95, df=len(dat)-1,\n",
        "              loc=mean,\n",
        "              scale=sst.sem(dat))\n",
        "print(\"The 95% confidence interval is : \",interval)"
      ],
      "metadata": {
        "colab": {
          "base_uri": "https://localhost:8080/"
        },
        "id": "UGCgjDRIeRkw",
        "outputId": "9646ed6e-5657-4789-e2e8-4451f3e0df60"
      },
      "execution_count": null,
      "outputs": [
        {
          "output_type": "stream",
          "name": "stdout",
          "text": [
            "The 95% confidence interval is :  (7.043561120599888, 8.756438879400113)\n"
          ]
        }
      ]
    },
    {
      "cell_type": "markdown",
      "source": [
        "14. Scenario: A company wants to analyze the effect of temperature on product performance. The data collected is as follows:\n",
        "    Temperature (in degrees Celsius): [20, 22, 23, 19, 21]\n",
        "    Performance (on a scale of 1 to 10): [8, 7, 9, 6, 8]\n",
        "    Perform a simple linear regression to predict performance based on temperature.\n"
      ],
      "metadata": {
        "id": "lJ2Xg1ragfHm"
      }
    },
    {
      "cell_type": "code",
      "source": [
        "x=[20, 22, 23, 19, 21]\n",
        "y=[8, 7, 9, 6, 8]\n",
        "corr=np.corrcoef(x,y)[0][1]\n",
        "slope=corr*(np.std(y)/np.std(x))\n",
        "const=np.mean(y)-slope*np.mean(x)\n",
        "print(slope)\n",
        "print(const)\n",
        "print(20*slope+const)"
      ],
      "metadata": {
        "colab": {
          "base_uri": "https://localhost:8080/"
        },
        "id": "igdQfTo-gfnQ",
        "outputId": "598bb5b8-0623-43db-c400-fe0b60e49c29"
      },
      "execution_count": null,
      "outputs": [
        {
          "output_type": "stream",
          "name": "stdout",
          "text": [
            "0.4999999999999998\n",
            "-2.899999999999995\n",
            "7.100000000000001\n"
          ]
        }
      ]
    },
    {
      "cell_type": "markdown",
      "source": [
        "15. Scenario: A study is conducted to compare the preferences of two groups of participants. The preferences are measured on a Likert scale from 1 to 5. The data collected is as follows:\n",
        "    Group A: [4, 3, 5, 2, 4]\n",
        "    Group B: [3, 2, 4, 3, 3]\n",
        "    Perform a Mann-Whitney U test to determine if there is a significant difference in the median preferences between the two groups.\n"
      ],
      "metadata": {
        "id": "4m65HQ1Ch7oQ"
      }
    },
    {
      "cell_type": "markdown",
      "source": [
        "H0: There is no significant difference between batches.\n",
        "HA: There is a significant difference between batches."
      ],
      "metadata": {
        "id": "Uf3sCQwajyLQ"
      }
    },
    {
      "cell_type": "code",
      "source": [
        "a=[4, 3, 5, 2, 4]\n",
        "b=[3, 2, 4, 3, 3]\n",
        "_,p=sst.mannwhitneyu(a,b)\n",
        "if p<0.05:\n",
        "  print(\"There is a significant difference between batches.\")\n",
        "else:\n",
        "  print(\"There is no significant difference between batches\")"
      ],
      "metadata": {
        "colab": {
          "base_uri": "https://localhost:8080/"
        },
        "id": "Wen65MhDh_ou",
        "outputId": "678e75bc-ff9e-4a8e-841a-034b89a93dd7"
      },
      "execution_count": null,
      "outputs": [
        {
          "output_type": "stream",
          "name": "stdout",
          "text": [
            "There is no significant difference between batches\n"
          ]
        }
      ]
    },
    {
      "cell_type": "markdown",
      "source": [
        "16. Scenario: A company wants to analyze the distribution of customer ages. The data collected is as follows:\n",
        "    [25, 30, 35, 40, 45, 50, 55, 60, 65, 70]\n",
        "    Calculate the interquartile range (IQR) of the ages.\n"
      ],
      "metadata": {
        "id": "OfXPa4qil18N"
      }
    },
    {
      "cell_type": "code",
      "source": [
        "print(\"The IQR is : \",sst.iqr([25, 30, 35, 40, 45, 50, 55, 60, 65, 70]))"
      ],
      "metadata": {
        "colab": {
          "base_uri": "https://localhost:8080/"
        },
        "id": "BMHGcx5Jl2YP",
        "outputId": "d98fb3cb-7665-463d-9959-e118c2e70d38"
      },
      "execution_count": 45,
      "outputs": [
        {
          "output_type": "stream",
          "name": "stdout",
          "text": [
            "The IQR is :  22.5\n"
          ]
        }
      ]
    },
    {
      "cell_type": "markdown",
      "source": [
        "17. Scenario: A study is conducted to compare the performance of three different machine learning algorithms. The accuracy scores for each algorithm are as follows:\n",
        "    Algorithm A: [0.85, 0.80, 0.82, 0.87, 0.83]\n",
        "    Algorithm B: [0.78, 0.82, 0.84, 0.80, 0.79]\n",
        "    Algorithm C: [0.90, 0.88, 0.89, 0.86, 0.87]\n",
        "    Perform a Kruskal-Wallis test to determine if there is a significant difference in the median accuracy scores between the algorithms.\n"
      ],
      "metadata": {
        "id": "KEF-ptKBnlYI"
      }
    },
    {
      "cell_type": "markdown",
      "source": [
        "The null hypothesis (H0): There is no significant difference in the median accuracy scores between the algorithms.\n",
        "\n",
        "The alternative hypothesis: (Ha): There is a significant difference in the median accuracy scores between the algorithms"
      ],
      "metadata": {
        "id": "Cv9cUvV7oV0A"
      }
    },
    {
      "cell_type": "code",
      "source": [
        "A=[0.85, 0.80, 0.82, 0.87, 0.83]\n",
        "B=[0.78, 0.82, 0.84, 0.80, 0.79]\n",
        "C=[0.90, 0.88, 0.89, 0.86, 0.87]\n",
        "_,p=sst.kruskal(A,B,C)\n",
        "if p<0.05:\n",
        "  print(\"There is a significant difference in the median accuracy scores between the algorithm.\")\n",
        "else:\n",
        "  print(\"There is no significant difference in the median accuracy scores between the algorithms.\")"
      ],
      "metadata": {
        "colab": {
          "base_uri": "https://localhost:8080/"
        },
        "id": "HNrLF1wqnOgX",
        "outputId": "d2c012c5-ccdb-4760-f3de-1d69ebe35040"
      },
      "execution_count": 47,
      "outputs": [
        {
          "output_type": "stream",
          "name": "stdout",
          "text": [
            "There is a significant difference in the median accuracy scores between the algorithm.\n"
          ]
        }
      ]
    },
    {
      "cell_type": "markdown",
      "source": [
        "18. Scenario: A company wants to analyze the effect of price on sales. The data collected is as follows:\n",
        "    Price (in dollars): [10, 15, 12, 8, 14]\n",
        "    Sales: [100, 80, 90, 110, 95]\n",
        "    Perform a simple linear regression to predict\n",
        "\n",
        " sales based on price.\n"
      ],
      "metadata": {
        "id": "vDtFjJvFpAtb"
      }
    },
    {
      "cell_type": "code",
      "source": [
        "x= [10, 15, 12, 8, 14]\n",
        "y=[100, 80, 90, 110, 95]\n",
        "corr=np.corrcoef(x,y)[0][1]\n",
        "slope=corr*(np.std(y)/np.std(x))\n",
        "const=np.mean(y)-slope*np.mean(x)\n",
        "print(slope)\n",
        "print(const)\n",
        "print(12*slope+const)"
      ],
      "metadata": {
        "colab": {
          "base_uri": "https://localhost:8080/"
        },
        "id": "AJ_u4J6kpDXt",
        "outputId": "a630fef1-6154-4316-ed67-19fff6c73364"
      },
      "execution_count": 50,
      "outputs": [
        {
          "output_type": "stream",
          "name": "stdout",
          "text": [
            "-3.5060975609756087\n",
            "136.3719512195122\n",
            "94.29878048780489\n"
          ]
        }
      ]
    },
    {
      "cell_type": "markdown",
      "source": [
        "19. Scenario: A survey is conducted to measure the satisfaction levels of customers with a new product. The data collected is as follows:\n",
        "    [7, 8, 9, 6, 8, 7, 9, 7, 8, 7]\n",
        "    Calculate the standard error of the mean satisfaction score.\n"
      ],
      "metadata": {
        "id": "-EDdtBycpW4Q"
      }
    },
    {
      "cell_type": "code",
      "source": [
        "dat=[7, 8, 9, 6, 8, 7, 9, 7, 8, 7]\n",
        "print(\"The standard error of the mean satisfaction score is : \",sst.sem(dat))"
      ],
      "metadata": {
        "colab": {
          "base_uri": "https://localhost:8080/"
        },
        "id": "xDKoTnMEpXjk",
        "outputId": "d9099ba8-763f-4c33-804f-9a69aaf7f1cf"
      },
      "execution_count": 51,
      "outputs": [
        {
          "output_type": "stream",
          "name": "stdout",
          "text": [
            "The standard error of the mean satisfaction score is :  0.30550504633038933\n"
          ]
        }
      ]
    },
    {
      "cell_type": "markdown",
      "source": [
        "20. Scenario: A company wants to analyze the relationship between advertising expenditure and sales. The data collected is as follows:\n",
        "    Advertising Expenditure (in thousands): [10, 15, 12, 8, 14]\n",
        "    Sales (in thousands): [25, 30, 28, 20, 26]\n",
        "    Perform a multiple regression analysis to predict sales based on advertising expenditure.\n"
      ],
      "metadata": {
        "id": "gHFv4NJls6Oa"
      }
    },
    {
      "cell_type": "code",
      "source": [
        "x=[10, 15, 12, 8, 14]\n",
        "y=[25, 30, 28, 20, 26]\n",
        "corr=np.corrcoef(x,y)[0][1]\n",
        "slope=corr*(np.std(y)/np.std(x))\n",
        "const=np.mean(y)-slope*np.mean(x)\n",
        "print(slope)\n",
        "print(const)\n",
        "print(10*slope+const)"
      ],
      "metadata": {
        "colab": {
          "base_uri": "https://localhost:8080/"
        },
        "id": "eWQabdjutNQH",
        "outputId": "c0b3abdc-da7e-45f8-edc0-bbc5436279ee"
      },
      "execution_count": 54,
      "outputs": [
        {
          "output_type": "stream",
          "name": "stdout",
          "text": [
            "1.1524390243902436\n",
            "12.201219512195125\n",
            "23.725609756097562\n"
          ]
        }
      ]
    }
  ]
}