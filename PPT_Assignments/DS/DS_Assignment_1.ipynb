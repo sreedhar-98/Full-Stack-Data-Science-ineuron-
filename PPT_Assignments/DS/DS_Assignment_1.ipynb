{
  "nbformat": 4,
  "nbformat_minor": 0,
  "metadata": {
    "colab": {
      "provenance": []
    },
    "kernelspec": {
      "name": "python3",
      "display_name": "Python 3"
    },
    "language_info": {
      "name": "python"
    }
  },
  "cells": [
    {
      "cell_type": "markdown",
      "source": [
        "1. Write a Python program to reverse a string without using any built-in string reversal functions.\n"
      ],
      "metadata": {
        "id": "JjaEbY05wpfL"
      }
    },
    {
      "cell_type": "code",
      "source": [
        "def rev(s):\n",
        "  ans=''\n",
        "  for i in range(len(s)-1,-1,-1):\n",
        "    ans+=s[i]\n",
        "  return ans\n",
        "rev(\"ABCD\")"
      ],
      "metadata": {
        "colab": {
          "base_uri": "https://localhost:8080/",
          "height": 36
        },
        "id": "ZLd4S9i-wqGV",
        "outputId": "f29823d6-498e-4621-cb00-e47e3dcc9adc"
      },
      "execution_count": 1,
      "outputs": [
        {
          "output_type": "execute_result",
          "data": {
            "text/plain": [
              "'DCBA'"
            ],
            "application/vnd.google.colaboratory.intrinsic+json": {
              "type": "string"
            }
          },
          "metadata": {},
          "execution_count": 1
        }
      ]
    },
    {
      "cell_type": "markdown",
      "source": [
        "2. Implement a function to check if a given string is a palindrome."
      ],
      "metadata": {
        "id": "DwQCqUpaw7-y"
      }
    },
    {
      "cell_type": "code",
      "source": [
        "def palindrome(s):\n",
        "  i,j=0,len(s)-1\n",
        "  while i<j:\n",
        "    if s[i]!=s[j]:\n",
        "      return False\n",
        "    i+=1\n",
        "    j-=1\n",
        "  return True\n",
        "palindrome(\"malayalam\")"
      ],
      "metadata": {
        "colab": {
          "base_uri": "https://localhost:8080/"
        },
        "id": "eKr7S-TBw-FA",
        "outputId": "36afc4f7-bb01-419a-c6c1-f1267e8ce974"
      },
      "execution_count": 2,
      "outputs": [
        {
          "output_type": "execute_result",
          "data": {
            "text/plain": [
              "True"
            ]
          },
          "metadata": {},
          "execution_count": 2
        }
      ]
    },
    {
      "cell_type": "markdown",
      "source": [
        "3. Write a program to find the largest element in a given list."
      ],
      "metadata": {
        "id": "Lf8C-oy1xPsh"
      }
    },
    {
      "cell_type": "code",
      "source": [
        "def large(l):\n",
        "  ma=float('-inf')\n",
        "  for i in l:\n",
        "    ma=max(i,ma)\n",
        "  return ma\n",
        "large([-1,5,2,3,1])"
      ],
      "metadata": {
        "colab": {
          "base_uri": "https://localhost:8080/"
        },
        "id": "XGGAA0s_xRTj",
        "outputId": "29753ba5-9032-4905-baba-1c957585ffca"
      },
      "execution_count": 3,
      "outputs": [
        {
          "output_type": "execute_result",
          "data": {
            "text/plain": [
              "5"
            ]
          },
          "metadata": {},
          "execution_count": 3
        }
      ]
    },
    {
      "cell_type": "markdown",
      "source": [
        "4. Implement a function to count the occurrence of each element in a list."
      ],
      "metadata": {
        "id": "FhgqKciNxclk"
      }
    },
    {
      "cell_type": "code",
      "source": [
        "def occ(l):\n",
        "  d={}\n",
        "  for i in l:\n",
        "    if i in d:\n",
        "      d[i]+=1\n",
        "    else:\n",
        "      d[i]=1\n",
        "  return d\n",
        "occ([1,2,3,1,3,2,4,5])"
      ],
      "metadata": {
        "colab": {
          "base_uri": "https://localhost:8080/"
        },
        "id": "fDxphoXGxevw",
        "outputId": "1934f4aa-8c79-4cd7-f83e-96cf5be2be04"
      },
      "execution_count": 4,
      "outputs": [
        {
          "output_type": "execute_result",
          "data": {
            "text/plain": [
              "{1: 2, 2: 2, 3: 2, 4: 1, 5: 1}"
            ]
          },
          "metadata": {},
          "execution_count": 4
        }
      ]
    },
    {
      "cell_type": "markdown",
      "source": [
        "5. Write a Python program to find the second largest number in a list.\n"
      ],
      "metadata": {
        "id": "VlakhCX7ycnN"
      }
    },
    {
      "cell_type": "code",
      "source": [
        "def sec_largest(l):\n",
        "  m1,m2=float('-inf'),float('-inf')\n",
        "  for i in l:\n",
        "    if i>m1:\n",
        "      m2=m1\n",
        "      m1=i\n",
        "    elif i>m2:\n",
        "      m2=i\n",
        "  return m2\n",
        "sec_largest([-1,5,2,3,1,4])"
      ],
      "metadata": {
        "colab": {
          "base_uri": "https://localhost:8080/"
        },
        "id": "SzEU1Mugyd_k",
        "outputId": "1dc0fd18-0727-4a81-a67d-f15b31752d42"
      },
      "execution_count": 7,
      "outputs": [
        {
          "output_type": "execute_result",
          "data": {
            "text/plain": [
              "4"
            ]
          },
          "metadata": {},
          "execution_count": 7
        }
      ]
    },
    {
      "cell_type": "markdown",
      "source": [
        "6. Implement a function to remove duplicate elements from a list."
      ],
      "metadata": {
        "id": "uP_RJpDlzPpC"
      }
    },
    {
      "cell_type": "code",
      "source": [
        "def remove_dup(l):\n",
        "  ans=[]\n",
        "  s=set()\n",
        "  for i in l:\n",
        "    if i not in s:\n",
        "      ans.append(i)\n",
        "      s.add(i)\n",
        "  return ans\n",
        "remove_dup([1,2,3,1,2,2,3,1,2,3])"
      ],
      "metadata": {
        "colab": {
          "base_uri": "https://localhost:8080/"
        },
        "id": "0kFBpRt3zQb7",
        "outputId": "d2271f58-610c-4e8f-d399-c3bb5d3cf028"
      },
      "execution_count": 8,
      "outputs": [
        {
          "output_type": "execute_result",
          "data": {
            "text/plain": [
              "[1, 2, 3]"
            ]
          },
          "metadata": {},
          "execution_count": 8
        }
      ]
    },
    {
      "cell_type": "markdown",
      "source": [
        "7. Write a program to calculate the factorial of a given number."
      ],
      "metadata": {
        "id": "ngOM8LpDz0ws"
      }
    },
    {
      "cell_type": "code",
      "source": [
        "def fact(num):\n",
        "  if num<=1:\n",
        "    return 1\n",
        "  return num*fact(num-1)\n",
        "fact(5)"
      ],
      "metadata": {
        "colab": {
          "base_uri": "https://localhost:8080/"
        },
        "id": "IFgX5YZ1z2ov",
        "outputId": "b961d360-ae78-4a2e-b11d-c285ac3b34ac"
      },
      "execution_count": 10,
      "outputs": [
        {
          "output_type": "execute_result",
          "data": {
            "text/plain": [
              "120"
            ]
          },
          "metadata": {},
          "execution_count": 10
        }
      ]
    },
    {
      "cell_type": "markdown",
      "source": [
        "8. Implement a function to check if a given number is prime.\n"
      ],
      "metadata": {
        "id": "x3ZGBHf80D_h"
      }
    },
    {
      "cell_type": "code",
      "source": [
        "def is_prime(num):\n",
        "  if num==2:\n",
        "    return True\n",
        "  if not (num & 1) or num<=1:\n",
        "    return False\n",
        "  else:\n",
        "    for i in range(3,int(num**0.5)+1):\n",
        "      if num%i==0:\n",
        "        return False\n",
        "  return True\n",
        "is_prime(15)"
      ],
      "metadata": {
        "colab": {
          "base_uri": "https://localhost:8080/"
        },
        "id": "9o852_Ov0Ei0",
        "outputId": "d7f42fa4-1e89-4894-fc33-1ad3d3f60274"
      },
      "execution_count": 17,
      "outputs": [
        {
          "output_type": "execute_result",
          "data": {
            "text/plain": [
              "False"
            ]
          },
          "metadata": {},
          "execution_count": 17
        }
      ]
    },
    {
      "cell_type": "markdown",
      "source": [
        "9. Write a Python program to sort a list of integers in ascending order."
      ],
      "metadata": {
        "id": "2_8wtifV1ILS"
      }
    },
    {
      "cell_type": "code",
      "source": [
        "def asc_sort(l):\n",
        "  return sorted(l)\n",
        "asc_sort([5,3,2,4,1])"
      ],
      "metadata": {
        "colab": {
          "base_uri": "https://localhost:8080/"
        },
        "id": "CIpX59xS1J_j",
        "outputId": "1d84fc82-2671-448e-a419-8ff276738f29"
      },
      "execution_count": 18,
      "outputs": [
        {
          "output_type": "execute_result",
          "data": {
            "text/plain": [
              "[1, 2, 3, 4, 5]"
            ]
          },
          "metadata": {},
          "execution_count": 18
        }
      ]
    },
    {
      "cell_type": "markdown",
      "source": [
        "10. Implement a function to find the sum of all numbers in a list.\n"
      ],
      "metadata": {
        "id": "TFavLEnm1Tay"
      }
    },
    {
      "cell_type": "code",
      "source": [
        "def add(l):\n",
        "  ans=0\n",
        "  for i in l:\n",
        "    ans+=i\n",
        "  return ans\n",
        "add([1,2,3,4,5])"
      ],
      "metadata": {
        "colab": {
          "base_uri": "https://localhost:8080/"
        },
        "id": "V6YKDbXy1Ump",
        "outputId": "d563ad21-85a1-494e-cbc3-707ae49bfcad"
      },
      "execution_count": 19,
      "outputs": [
        {
          "output_type": "execute_result",
          "data": {
            "text/plain": [
              "15"
            ]
          },
          "metadata": {},
          "execution_count": 19
        }
      ]
    },
    {
      "cell_type": "markdown",
      "source": [
        "11. Write a program to find the common elements between two lists."
      ],
      "metadata": {
        "id": "Va3wBM4w1jtM"
      }
    },
    {
      "cell_type": "code",
      "source": [
        "def common_elems(l1,l2):\n",
        "  return list(set(l1).intersection(set(l2)))\n",
        "common_elems([1,2,5,4,7],[1,5,4,3,9,11])"
      ],
      "metadata": {
        "colab": {
          "base_uri": "https://localhost:8080/"
        },
        "id": "cnXezd1u1l-A",
        "outputId": "5ec3f6a7-d379-4851-c26f-11833fa96239"
      },
      "execution_count": 21,
      "outputs": [
        {
          "output_type": "execute_result",
          "data": {
            "text/plain": [
              "[1, 4, 5]"
            ]
          },
          "metadata": {},
          "execution_count": 21
        }
      ]
    },
    {
      "cell_type": "markdown",
      "source": [
        "12. Implement a function to check if a given string is an anagram of another string.\n"
      ],
      "metadata": {
        "id": "ftJEul0X15fy"
      }
    },
    {
      "cell_type": "code",
      "source": [
        "def is_anagram(s,t):\n",
        "  n,m=len(s),len(t)\n",
        "  if n!=m:\n",
        "    return False\n",
        "  alpha=[0]*26\n",
        "  for i in range(n):\n",
        "    alpha[ord(s[i])-ord('a')]+=1\n",
        "    alpha[ord(t[i])-ord('a')]-=1\n",
        "  for i in alpha:\n",
        "    if i>0:\n",
        "      return False\n",
        "  return True\n",
        "is_anagram('divya','vidya')"
      ],
      "metadata": {
        "colab": {
          "base_uri": "https://localhost:8080/"
        },
        "id": "pWpshfed18Cd",
        "outputId": "adca50b3-a6b7-4ade-85c5-b1339d094be3"
      },
      "execution_count": 22,
      "outputs": [
        {
          "output_type": "execute_result",
          "data": {
            "text/plain": [
              "True"
            ]
          },
          "metadata": {},
          "execution_count": 22
        }
      ]
    },
    {
      "cell_type": "markdown",
      "source": [
        "13. Write a Python program to generate all permutations of a given string."
      ],
      "metadata": {
        "id": "35B5OE2z2cZy"
      }
    },
    {
      "cell_type": "code",
      "source": [
        "def permutations(s,l,r):\n",
        "  if l==r:\n",
        "    print(''.join(s))\n",
        "  else:\n",
        "    for i in range(l,r):\n",
        "      s[l],s[i]=s[i],s[l]\n",
        "      permutations(s,l+1,r)\n",
        "      s[l],s[i]=s[i],s[l]\n",
        "permutations(list(\"ABC\"),0,3)"
      ],
      "metadata": {
        "colab": {
          "base_uri": "https://localhost:8080/"
        },
        "id": "cyamk9ez2dCW",
        "outputId": "4b5ea194-6fda-42ee-bce8-de0800fda66e"
      },
      "execution_count": 23,
      "outputs": [
        {
          "output_type": "stream",
          "name": "stdout",
          "text": [
            "ABC\n",
            "ACB\n",
            "BAC\n",
            "BCA\n",
            "CBA\n",
            "CAB\n"
          ]
        }
      ]
    },
    {
      "cell_type": "markdown",
      "source": [
        "14. Implement a function to calculate the Fibonacci sequence up to a given number of terms.\n"
      ],
      "metadata": {
        "id": "Yhi2iE6F2oqJ"
      }
    },
    {
      "cell_type": "code",
      "source": [
        "def fibonacci(n):\n",
        "  a=0\n",
        "  b=1\n",
        "  if n==1:\n",
        "    return a\n",
        "  elif n==2:\n",
        "    return b\n",
        "  else:\n",
        "    for i in range(3,n+1):\n",
        "      c=a+b\n",
        "      a=b\n",
        "      b=c\n",
        "    return b\n",
        "fibonacci(9)"
      ],
      "metadata": {
        "colab": {
          "base_uri": "https://localhost:8080/"
        },
        "id": "1td05rDs2pKj",
        "outputId": "b2dbfe7d-2ac4-4975-9981-5238230d3be6"
      },
      "execution_count": 29,
      "outputs": [
        {
          "output_type": "execute_result",
          "data": {
            "text/plain": [
              "21"
            ]
          },
          "metadata": {},
          "execution_count": 29
        }
      ]
    },
    {
      "cell_type": "markdown",
      "source": [
        "15. Write a program to find the median of a list of numbers.\n"
      ],
      "metadata": {
        "id": "I9gMPIy45t_r"
      }
    },
    {
      "cell_type": "code",
      "source": [
        "def median(l):\n",
        "  l.sort()\n",
        "  n=len(l)\n",
        "  if n%2==0:\n",
        "    return (l[n//2]+l[n//2-1])/2\n",
        "  else:\n",
        "    return l[n//2]\n",
        "median([4, 5, 8, 9, 10])"
      ],
      "metadata": {
        "colab": {
          "base_uri": "https://localhost:8080/"
        },
        "id": "4yEZfT8150aj",
        "outputId": "0a84e5f1-c324-4d81-a20f-99272fcca6ca"
      },
      "execution_count": 34,
      "outputs": [
        {
          "output_type": "execute_result",
          "data": {
            "text/plain": [
              "8"
            ]
          },
          "metadata": {},
          "execution_count": 34
        }
      ]
    },
    {
      "cell_type": "markdown",
      "source": [
        "16. Implement a function to check if a given list is sorted in non-decreasing order.\n"
      ],
      "metadata": {
        "id": "ssrtuo466stG"
      }
    },
    {
      "cell_type": "code",
      "source": [
        "def is_sorted(l):\n",
        "  for i in range(1,len(l)):\n",
        "    if l[i]<l[i-1]:\n",
        "      return False\n",
        "  return True\n",
        "is_sorted([1,2,3,4])"
      ],
      "metadata": {
        "colab": {
          "base_uri": "https://localhost:8080/"
        },
        "id": "8PRnAYuq6uo4",
        "outputId": "a9ce09ac-2171-44dd-b32a-47969a17ada4"
      },
      "execution_count": 38,
      "outputs": [
        {
          "output_type": "execute_result",
          "data": {
            "text/plain": [
              "True"
            ]
          },
          "metadata": {},
          "execution_count": 38
        }
      ]
    },
    {
      "cell_type": "markdown",
      "source": [
        "17. Write a Python program to find the intersection of two lists"
      ],
      "metadata": {
        "id": "Su5u1Eie7FVr"
      }
    },
    {
      "cell_type": "code",
      "source": [
        "def common_elems(l1,l2):\n",
        "  return list(set(l1).intersection(set(l2)))\n",
        "common_elems([1,2,5,4,7],[1,5,4,3,9,11])"
      ],
      "metadata": {
        "colab": {
          "base_uri": "https://localhost:8080/"
        },
        "id": "KjMQEW6s7Ici",
        "outputId": "7c9702c7-b5ba-4c69-eaaa-8c8291d77141"
      },
      "execution_count": 39,
      "outputs": [
        {
          "output_type": "execute_result",
          "data": {
            "text/plain": [
              "[1, 4, 5]"
            ]
          },
          "metadata": {},
          "execution_count": 39
        }
      ]
    },
    {
      "cell_type": "markdown",
      "source": [
        "18. Implement a function to find the maximum subarray sum in a given list."
      ],
      "metadata": {
        "id": "QkxRxebb7N7S"
      }
    },
    {
      "cell_type": "code",
      "source": [
        "def kadane(arr):\n",
        "  ans=float('-inf')\n",
        "  curr_max=0\n",
        "  for i in range(len(arr)):\n",
        "    curr_max+=arr[i]\n",
        "    ans=max(ans,curr_max)\n",
        "    if curr_max<0:\n",
        "      curr_max=0\n",
        "  return ans\n",
        "kadane([-2, -3, 4, -1, -2, 1, 5, -3])"
      ],
      "metadata": {
        "colab": {
          "base_uri": "https://localhost:8080/"
        },
        "id": "xeuBFIvz7QZp",
        "outputId": "3a2eb12e-4d51-4124-da7f-e066899833ea"
      },
      "execution_count": 40,
      "outputs": [
        {
          "output_type": "execute_result",
          "data": {
            "text/plain": [
              "7"
            ]
          },
          "metadata": {},
          "execution_count": 40
        }
      ]
    },
    {
      "cell_type": "markdown",
      "source": [
        "19. Write a program to remove all vowels from a given string.\n"
      ],
      "metadata": {
        "id": "ZDsisQ9A8A40"
      }
    },
    {
      "cell_type": "code",
      "source": [
        "def remove_vowels(s):\n",
        "  ans=\"\"\n",
        "  vowels='aeiouAEIOU'\n",
        "  for i in s:\n",
        "    if i not in vowels:\n",
        "      ans+=i\n",
        "  return ans\n",
        "remove_vowels(\"ineuron\")"
      ],
      "metadata": {
        "colab": {
          "base_uri": "https://localhost:8080/",
          "height": 36
        },
        "id": "7NPxl9le8Cqr",
        "outputId": "d2a79d80-4f53-4357-e674-5b3090e4da56"
      },
      "execution_count": 41,
      "outputs": [
        {
          "output_type": "execute_result",
          "data": {
            "text/plain": [
              "'nrn'"
            ],
            "application/vnd.google.colaboratory.intrinsic+json": {
              "type": "string"
            }
          },
          "metadata": {},
          "execution_count": 41
        }
      ]
    },
    {
      "cell_type": "markdown",
      "source": [
        "20. Implement a function to reverse the order of words in a given sentence"
      ],
      "metadata": {
        "id": "djFj9QTG9_Id"
      }
    },
    {
      "cell_type": "code",
      "source": [
        "def reverse_sent(s):\n",
        "  return ' '.join(s.split()[::-1])\n",
        "reverse_sent(\"i like this program very much\")"
      ],
      "metadata": {
        "colab": {
          "base_uri": "https://localhost:8080/",
          "height": 36
        },
        "id": "Gag0PeAx-Exd",
        "outputId": "f55ba0cc-eecd-4b72-befa-b3bb6d3290c6"
      },
      "execution_count": 42,
      "outputs": [
        {
          "output_type": "execute_result",
          "data": {
            "text/plain": [
              "'much very program this like i'"
            ],
            "application/vnd.google.colaboratory.intrinsic+json": {
              "type": "string"
            }
          },
          "metadata": {},
          "execution_count": 42
        }
      ]
    },
    {
      "cell_type": "markdown",
      "source": [
        "21. Write a Python program to check if two strings are anagrams of each other.\n"
      ],
      "metadata": {
        "id": "pcmufX_cGHgt"
      }
    },
    {
      "cell_type": "code",
      "source": [
        "def is_anagram(s,t):\n",
        "  n,m=len(s),len(t)\n",
        "  if n!=m:\n",
        "    return False\n",
        "  alpha=[0]*26\n",
        "  for i in range(n):\n",
        "    alpha[ord(s[i])-ord('a')]+=1\n",
        "    alpha[ord(t[i])-ord('a')]-=1\n",
        "  for i in alpha:\n",
        "    if i>0:\n",
        "      return False\n",
        "  return True\n",
        "is_anagram('divya','vidya')"
      ],
      "metadata": {
        "colab": {
          "base_uri": "https://localhost:8080/"
        },
        "id": "CJ-ThvIiGJ7R",
        "outputId": "ef3abc00-464f-4b42-9575-99a0bdab9871"
      },
      "execution_count": 43,
      "outputs": [
        {
          "output_type": "execute_result",
          "data": {
            "text/plain": [
              "True"
            ]
          },
          "metadata": {},
          "execution_count": 43
        }
      ]
    },
    {
      "cell_type": "markdown",
      "source": [
        "22. Implement a function to find the first non-repeating character in a string."
      ],
      "metadata": {
        "id": "144YRFUXGPsU"
      }
    },
    {
      "cell_type": "code",
      "source": [
        "def non_repeat(s):\n",
        "  d={}\n",
        "  for i in s:\n",
        "    if i in d:\n",
        "      d[i]+=1\n",
        "    else:\n",
        "      d[i]=1\n",
        "  for i in s:\n",
        "    if d[i]==1:\n",
        "      return i\n",
        "non_repeat(\"geeksforgeeks\")"
      ],
      "metadata": {
        "colab": {
          "base_uri": "https://localhost:8080/",
          "height": 36
        },
        "id": "M9qQzsR8GSgX",
        "outputId": "4baada1c-b1e4-4e38-dee1-f1cd1c7168e0"
      },
      "execution_count": 45,
      "outputs": [
        {
          "output_type": "execute_result",
          "data": {
            "text/plain": [
              "'f'"
            ],
            "application/vnd.google.colaboratory.intrinsic+json": {
              "type": "string"
            }
          },
          "metadata": {},
          "execution_count": 45
        }
      ]
    },
    {
      "cell_type": "markdown",
      "source": [
        "23. Write a program to find the prime factors of a given number."
      ],
      "metadata": {
        "id": "CFCYYMuUHFN7"
      }
    },
    {
      "cell_type": "code",
      "source": [
        "def Prime_Factorial(n):\n",
        "  if n < 4:\n",
        "    return n\n",
        "  arr = []\n",
        "  while n > 1:\n",
        "    for i in range(2, int(2+n//2)):\n",
        "      if i == (1 + n // 2):\n",
        "        arr.append(n)\n",
        "        n = n // n\n",
        "      if n % i == 0:\n",
        "        arr.append(i)\n",
        "        n = n // i\n",
        "        break\n",
        "  return arr\n",
        "Prime_Factorial(210)"
      ],
      "metadata": {
        "colab": {
          "base_uri": "https://localhost:8080/"
        },
        "id": "0Zd8Bw7BHLJP",
        "outputId": "9385b78d-1a9f-4b6d-cab3-7b6f43cba9fb"
      },
      "execution_count": 46,
      "outputs": [
        {
          "output_type": "execute_result",
          "data": {
            "text/plain": [
              "[2, 3, 5, 7]"
            ]
          },
          "metadata": {},
          "execution_count": 46
        }
      ]
    },
    {
      "cell_type": "markdown",
      "source": [
        "24. Implement a function to check if a given number is a power of two.\n"
      ],
      "metadata": {
        "id": "VpY2m_otIYOv"
      }
    },
    {
      "cell_type": "code",
      "source": [
        "def poweroftwo(n):\n",
        "  if n<=1:\n",
        "    return n==1\n",
        "  return poweroftwo(n/2)\n",
        "print(poweroftwo(1))\n",
        "print(poweroftwo(16))\n",
        "print(poweroftwo(3))"
      ],
      "metadata": {
        "colab": {
          "base_uri": "https://localhost:8080/"
        },
        "id": "7RLS9zVxIaJ2",
        "outputId": "fbdcb343-23ca-45a7-a2f2-7e8074849ac5"
      },
      "execution_count": 47,
      "outputs": [
        {
          "output_type": "stream",
          "name": "stdout",
          "text": [
            "True\n",
            "True\n",
            "False\n"
          ]
        }
      ]
    },
    {
      "cell_type": "markdown",
      "source": [
        "25. Write a Python program to merge two sorted lists into a single sorted list."
      ],
      "metadata": {
        "id": "Ml3UixvZIrJF"
      }
    },
    {
      "cell_type": "code",
      "source": [
        "def merge_lists(l1,l2):\n",
        "  ans=[]\n",
        "  i,j=0,0\n",
        "  while i<len(l1) and j<len(l2):\n",
        "    if l1[i]<l2[j]:\n",
        "      ans.append(l1[i])\n",
        "      i+=1\n",
        "    elif l1[i]>l2[j]:\n",
        "      ans.append(l2[j])\n",
        "      j+=1\n",
        "    else:\n",
        "      ans.extend([l1[i],l1[i]])\n",
        "      i+=1\n",
        "      j+=1\n",
        "  while i<len(l1):\n",
        "    ans.append(l1[i])\n",
        "    i+=1\n",
        "  while j<len(l2):\n",
        "    ans.append(l2[j])\n",
        "    j+=1\n",
        "  return ans\n",
        "merge_lists([1,2,4],[1,3,4])"
      ],
      "metadata": {
        "colab": {
          "base_uri": "https://localhost:8080/"
        },
        "id": "vnuNB_Hl7NDk",
        "outputId": "2b87ccc4-1fb5-4b28-bd3d-9c020dcb4295"
      },
      "execution_count": 50,
      "outputs": [
        {
          "output_type": "execute_result",
          "data": {
            "text/plain": [
              "[1, 1, 2, 3, 4, 4]"
            ]
          },
          "metadata": {},
          "execution_count": 50
        }
      ]
    },
    {
      "cell_type": "markdown",
      "source": [
        "26. Implement a function to find the mode of a list of numbers."
      ],
      "metadata": {
        "id": "PRsoQNsjKmEt"
      }
    },
    {
      "cell_type": "code",
      "source": [
        "def mode(l):\n",
        "  ma=0\n",
        "  mode=[]\n",
        "  d={}\n",
        "  for i in l:\n",
        "    if i in d:\n",
        "      d[i]+=1\n",
        "    else:\n",
        "      d[i]=1\n",
        "    ma=max(d[i],ma)\n",
        "  for i in d:\n",
        "    if d[i]==ma:\n",
        "      mode.append(i)\n",
        "  return mode\n",
        "mode([1, 2, 3, 4, 5, 5, 3])"
      ],
      "metadata": {
        "colab": {
          "base_uri": "https://localhost:8080/"
        },
        "id": "J5QDs-N9Kn--",
        "outputId": "55fbfdf2-6f5d-48bd-81ef-fb5148877c53"
      },
      "execution_count": 53,
      "outputs": [
        {
          "output_type": "execute_result",
          "data": {
            "text/plain": [
              "[3, 5]"
            ]
          },
          "metadata": {},
          "execution_count": 53
        }
      ]
    },
    {
      "cell_type": "markdown",
      "source": [
        "27. Write a program to find the greatest common divisor (GCD) of two numbers."
      ],
      "metadata": {
        "id": "l48quX5xMDPo"
      }
    },
    {
      "cell_type": "code",
      "source": [
        "def gcd(a,b):\n",
        "  if a==0:\n",
        "    return b\n",
        "  return gcd(b%a,a)\n",
        "gcd(35,5)"
      ],
      "metadata": {
        "colab": {
          "base_uri": "https://localhost:8080/"
        },
        "id": "FoehPMffMDpj",
        "outputId": "164b09db-de96-4483-863d-94348b0989ba"
      },
      "execution_count": 55,
      "outputs": [
        {
          "output_type": "execute_result",
          "data": {
            "text/plain": [
              "5"
            ]
          },
          "metadata": {},
          "execution_count": 55
        }
      ]
    },
    {
      "cell_type": "markdown",
      "source": [
        "28. Implement a function to calculate the square root of a given number."
      ],
      "metadata": {
        "id": "HnqTX19YMVp-"
      }
    },
    {
      "cell_type": "code",
      "source": [
        "def Sqrt(x):\n",
        "  if (x == 0 or x == 1):\n",
        "    return x\n",
        "  start = 1\n",
        "  end = x//2\n",
        "  while (start <= end):\n",
        "    mid = (start + end) // 2\n",
        "    if (mid*mid == x):\n",
        "      return mid\n",
        "    if (mid * mid < x):\n",
        "      start = mid + 1\n",
        "      ans = mid\n",
        "    else:\n",
        "      end = mid-1\n",
        "\n",
        "  return ans\n",
        "Sqrt(16)"
      ],
      "metadata": {
        "colab": {
          "base_uri": "https://localhost:8080/"
        },
        "id": "hd_FTrbiMY9p",
        "outputId": "5bf216a7-0ffc-4358-f508-785ed3bc634e"
      },
      "execution_count": 56,
      "outputs": [
        {
          "output_type": "execute_result",
          "data": {
            "text/plain": [
              "4"
            ]
          },
          "metadata": {},
          "execution_count": 56
        }
      ]
    },
    {
      "cell_type": "markdown",
      "source": [
        "29. Write a Python program to check if a given string is a valid palindrome ignoring non-alphanumeric characters.\n"
      ],
      "metadata": {
        "id": "UsVlFLtJNAot"
      }
    },
    {
      "cell_type": "code",
      "source": [
        "def is_palindrome(s):\n",
        "  i,j=0,len(s)-1\n",
        "  while i<j:\n",
        "    if not s[i].isalnum():\n",
        "      i+=1\n",
        "      continue\n",
        "    elif not s[j].isalnum():\n",
        "      j-=1\n",
        "      continue\n",
        "    else:\n",
        "      if s[i]!=s[j]:\n",
        "        return False\n",
        "    i+=1\n",
        "    j-=1\n",
        "  return True\n",
        "is_palindrome('malay@#alam')"
      ],
      "metadata": {
        "colab": {
          "base_uri": "https://localhost:8080/"
        },
        "id": "7bf4LKbxNBn4",
        "outputId": "e874427c-7589-4ff3-956a-1b8b37d7417c"
      },
      "execution_count": 59,
      "outputs": [
        {
          "output_type": "execute_result",
          "data": {
            "text/plain": [
              "True"
            ]
          },
          "metadata": {},
          "execution_count": 59
        }
      ]
    },
    {
      "cell_type": "markdown",
      "source": [
        "30. Implement a function to find the minimum element in a rotated sorted list."
      ],
      "metadata": {
        "id": "Dpir-S-AOZmH"
      }
    },
    {
      "cell_type": "code",
      "source": [
        "def min_elem(nums):\n",
        "  n=len(nums)-1\n",
        "  low,high=0,n\n",
        "  while low<high:\n",
        "    mid=(low+high)//2\n",
        "    if mid<n and nums[mid]>nums[mid+1]:\n",
        "      return nums[mid+1]\n",
        "    if mid>0 and nums[mid]<nums[mid-1]:\n",
        "      return nums[mid]\n",
        "    if nums[mid]>nums[-1]:\n",
        "      low=mid+1\n",
        "    else:\n",
        "      high=mid-1\n",
        "  return nums[0]\n",
        "min_elem([4,5,6,7,0,1,2])"
      ],
      "metadata": {
        "colab": {
          "base_uri": "https://localhost:8080/"
        },
        "id": "UC3lCMkLOfdW",
        "outputId": "1b749f40-0c40-461d-d043-1a1d4c66013a"
      },
      "execution_count": 60,
      "outputs": [
        {
          "output_type": "execute_result",
          "data": {
            "text/plain": [
              "0"
            ]
          },
          "metadata": {},
          "execution_count": 60
        }
      ]
    },
    {
      "cell_type": "markdown",
      "source": [
        "31. Write a program to find the sum of all even numbers in a list.\n"
      ],
      "metadata": {
        "id": "j-v5zKV6PJ2l"
      }
    },
    {
      "cell_type": "code",
      "source": [
        "def even_sum(l):\n",
        "  ans=0\n",
        "  for i in l:\n",
        "    if not (i & 1):\n",
        "      ans+=i\n",
        "  return ans\n",
        "even_sum([1,2,3,4,5,6])"
      ],
      "metadata": {
        "colab": {
          "base_uri": "https://localhost:8080/"
        },
        "id": "vyqzAm3GPLBS",
        "outputId": "c93fbcfb-6218-439a-9185-1e1ad23452bf"
      },
      "execution_count": 61,
      "outputs": [
        {
          "output_type": "execute_result",
          "data": {
            "text/plain": [
              "12"
            ]
          },
          "metadata": {},
          "execution_count": 61
        }
      ]
    },
    {
      "cell_type": "markdown",
      "source": [
        "32. Implement a function to calculate the power of a number using recursion."
      ],
      "metadata": {
        "id": "AW6wB6TQPUF-"
      }
    },
    {
      "cell_type": "code",
      "source": [
        "def power(n,p):\n",
        "  if p==0:\n",
        "    return 1\n",
        "  if p%2==0:\n",
        "    res=power(n,p//2)\n",
        "    return res*res\n",
        "  else:\n",
        "    res=power(n,(p-1)//2)\n",
        "    return n*res*res\n",
        "power(5,2)"
      ],
      "metadata": {
        "colab": {
          "base_uri": "https://localhost:8080/"
        },
        "id": "7IQk44-HPV63",
        "outputId": "e1bb53d7-4116-424a-f3e5-1b389cd50ff9"
      },
      "execution_count": 62,
      "outputs": [
        {
          "output_type": "execute_result",
          "data": {
            "text/plain": [
              "25"
            ]
          },
          "metadata": {},
          "execution_count": 62
        }
      ]
    },
    {
      "cell_type": "markdown",
      "source": [
        "33. Write a Python program to remove duplicates from a list while preserving the order."
      ],
      "metadata": {
        "id": "e7upTj_HPf6H"
      }
    },
    {
      "cell_type": "code",
      "source": [
        "def remove_dup(l):\n",
        "  ans=[]\n",
        "  s=set()\n",
        "  for i in l:\n",
        "    if i not in s:\n",
        "      ans.append(i)\n",
        "      s.add(i)\n",
        "  return ans\n",
        "remove_dup([1,2,3,1,2,2,3,1,2,3])"
      ],
      "metadata": {
        "id": "wdNQS9pcPiUB"
      },
      "execution_count": null,
      "outputs": []
    },
    {
      "cell_type": "markdown",
      "source": [
        "34. Implement a function to find the longest common prefix among a list of strings."
      ],
      "metadata": {
        "id": "UzN3AxQSP5ep"
      }
    },
    {
      "cell_type": "code",
      "source": [
        "def lcp(l):\n",
        "  if len(l)==1:\n",
        "    return l[0]\n",
        "  else:\n",
        "    l.sort()\n",
        "    res=\"\"\n",
        "    for i in range(len(l[0])):\n",
        "      if l[0][i] == l[-1][i]:\n",
        "        res += l[0][i]\n",
        "      else:\n",
        "        break\n",
        "    return res\n",
        "l=['mint','mini','mineral']\n",
        "lcp(l)"
      ],
      "metadata": {
        "colab": {
          "base_uri": "https://localhost:8080/",
          "height": 36
        },
        "id": "cvK6qSkrPb3x",
        "outputId": "1aa5101b-023c-4de0-b431-800f4ad75fe5"
      },
      "execution_count": 65,
      "outputs": [
        {
          "output_type": "execute_result",
          "data": {
            "text/plain": [
              "'min'"
            ],
            "application/vnd.google.colaboratory.intrinsic+json": {
              "type": "string"
            }
          },
          "metadata": {},
          "execution_count": 65
        }
      ]
    },
    {
      "cell_type": "markdown",
      "source": [
        "35. Write a program to check if a given number is a perfect square."
      ],
      "metadata": {
        "id": "9kSzIyETQrSy"
      }
    },
    {
      "cell_type": "code",
      "source": [
        "def perfect_square(n):\n",
        "  elem=n**0.5\n",
        "  return elem==int(elem)\n",
        "perfect_square(2)"
      ],
      "metadata": {
        "colab": {
          "base_uri": "https://localhost:8080/"
        },
        "id": "h_Y9FGuKQMfN",
        "outputId": "77c9c46b-30d5-46aa-b284-c6eb10625d41"
      },
      "execution_count": 73,
      "outputs": [
        {
          "output_type": "execute_result",
          "data": {
            "text/plain": [
              "False"
            ]
          },
          "metadata": {},
          "execution_count": 73
        }
      ]
    },
    {
      "cell_type": "markdown",
      "source": [
        "36. Implement a function to calculate the product of all elements in a list."
      ],
      "metadata": {
        "id": "__vnukpqREl_"
      }
    },
    {
      "cell_type": "code",
      "source": [
        "def prod(l):\n",
        "  ans=1\n",
        "  for i in l:\n",
        "    ans*=i\n",
        "  return ans\n",
        "prod([1,2,3,4,5])"
      ],
      "metadata": {
        "colab": {
          "base_uri": "https://localhost:8080/"
        },
        "id": "VkjgFxKWRG0z",
        "outputId": "5986d427-9e0e-45e8-d0e2-f78364ed64b6"
      },
      "execution_count": 74,
      "outputs": [
        {
          "output_type": "execute_result",
          "data": {
            "text/plain": [
              "120"
            ]
          },
          "metadata": {},
          "execution_count": 74
        }
      ]
    },
    {
      "cell_type": "markdown",
      "source": [
        "37. Write a Python program to reverse the order of words in a sentence while preserving the word order."
      ],
      "metadata": {
        "id": "EIvCaIF9RO22"
      }
    },
    {
      "cell_type": "code",
      "source": [
        "def reverse_sent(s):\n",
        "  return ' '.join(s.split()[::-1])\n",
        "reverse_sent(\"i like this program very much\")"
      ],
      "metadata": {
        "colab": {
          "base_uri": "https://localhost:8080/",
          "height": 36
        },
        "id": "p6XUxZHsRSIA",
        "outputId": "a0e65edf-477c-42a7-b68b-524f55fe5992"
      },
      "execution_count": 75,
      "outputs": [
        {
          "output_type": "execute_result",
          "data": {
            "text/plain": [
              "'much very program this like i'"
            ],
            "application/vnd.google.colaboratory.intrinsic+json": {
              "type": "string"
            }
          },
          "metadata": {},
          "execution_count": 75
        }
      ]
    },
    {
      "cell_type": "markdown",
      "source": [
        "38. Implement a function to find the missing number in a given list of consecutive numbers."
      ],
      "metadata": {
        "id": "rU10iIg6RfAY"
      }
    },
    {
      "cell_type": "code",
      "source": [
        "def find_missing(nums):\n",
        "  low,high=0,len(nums)-1\n",
        "  while low<high:\n",
        "    mid=(low+high)//2\n",
        "    if nums[mid]-mid==nums[0]:\n",
        "      if nums[mid+1]-nums[mid]>1:\n",
        "        return nums[mid]+1\n",
        "      else:\n",
        "        low=mid+1\n",
        "    else:\n",
        "      if nums[mid]-nums[mid-1]>1:\n",
        "        return nums[mid]-1\n",
        "      else:\n",
        "        high=mid-1\n",
        "  return -1\n",
        "find_missing([-9, -8, -7, -5, -4, -3, -2, -1, 0 ])"
      ],
      "metadata": {
        "colab": {
          "base_uri": "https://localhost:8080/"
        },
        "id": "esYcp7CyReOT",
        "outputId": "96b374a0-e84f-43a0-ccaa-f444ed6acf48"
      },
      "execution_count": 76,
      "outputs": [
        {
          "output_type": "execute_result",
          "data": {
            "text/plain": [
              "-6"
            ]
          },
          "metadata": {},
          "execution_count": 76
        }
      ]
    },
    {
      "cell_type": "markdown",
      "source": [
        "39. Write a program to find the sum of digits of a given number."
      ],
      "metadata": {
        "id": "gT4cWkrqVRJ_"
      }
    },
    {
      "cell_type": "code",
      "source": [
        "def sod(num):\n",
        "  ans=0\n",
        "  while num:\n",
        "    ans+=num%10\n",
        "    num//=10\n",
        "  return ans\n",
        "sod(456)"
      ],
      "metadata": {
        "colab": {
          "base_uri": "https://localhost:8080/"
        },
        "id": "ZEtxlI-LVRpe",
        "outputId": "5c5418c7-eb23-489b-92ea-d0339c6722b2"
      },
      "execution_count": 77,
      "outputs": [
        {
          "output_type": "execute_result",
          "data": {
            "text/plain": [
              "15"
            ]
          },
          "metadata": {},
          "execution_count": 77
        }
      ]
    },
    {
      "cell_type": "markdown",
      "source": [
        "40. Implement a function to check if a given string is a valid palindrome considering case sensitivity."
      ],
      "metadata": {
        "id": "5OdEzaB5VdoY"
      }
    },
    {
      "cell_type": "code",
      "source": [
        "def is_palindrome(s):\n",
        "  i,j=0,len(s)-1\n",
        "  while i<j:\n",
        "    if s[i]!=s[j]:\n",
        "      return False\n",
        "    i+=1\n",
        "    j-=1\n",
        "  return True\n",
        "is_palindrome(\"malayalam\")"
      ],
      "metadata": {
        "colab": {
          "base_uri": "https://localhost:8080/"
        },
        "id": "ksRZ1b6WVhbR",
        "outputId": "e0657980-bb68-4c89-f74d-6a0f8bab0f02"
      },
      "execution_count": 79,
      "outputs": [
        {
          "output_type": "execute_result",
          "data": {
            "text/plain": [
              "True"
            ]
          },
          "metadata": {},
          "execution_count": 79
        }
      ]
    },
    {
      "cell_type": "markdown",
      "source": [
        "41. Write a Python program to find the smallest missing positive integer in a list.\n"
      ],
      "metadata": {
        "id": "p9XeFO62Vveg"
      }
    },
    {
      "cell_type": "code",
      "source": [
        "def missing_num(arr):\n",
        "  n=len(arr)\n",
        "  for i in range(n):\n",
        "    while (arr[i] >= 1 and arr[i] <= n and arr[i] != arr[arr[i] - 1]):\n",
        "      temp = arr[i]\n",
        "      arr[i] = arr[arr[i] - 1]\n",
        "      arr[temp - 1] = temp\n",
        "  for i in range(n):\n",
        "    if (arr[i] != i + 1):\n",
        "      return i + 1\n",
        "  return n + 1\n",
        "missing_num([0, 10, 2, -10, -20])"
      ],
      "metadata": {
        "colab": {
          "base_uri": "https://localhost:8080/"
        },
        "id": "_qgHfNVjVyqi",
        "outputId": "7f71339b-dc60-4310-e603-1e0e21a7cff4"
      },
      "execution_count": 80,
      "outputs": [
        {
          "output_type": "execute_result",
          "data": {
            "text/plain": [
              "1"
            ]
          },
          "metadata": {},
          "execution_count": 80
        }
      ]
    },
    {
      "cell_type": "markdown",
      "source": [
        "42. Implement a function to find the longest palindrome substring in a given string."
      ],
      "metadata": {
        "id": "Qug0fKy_Zqt3"
      }
    },
    {
      "cell_type": "code",
      "source": [
        "# Expand in both directions of `low` and `high` to find maximum length palindrome\n",
        "def expand(s, low, high):\n",
        "  length = len(s)\n",
        "  while low >= 0 and high < length and s[low] == s[high]:\n",
        "    low = low - 1\n",
        "    high = high + 1\n",
        "  return s[low + 1:high]\n",
        "def findLongestPalindromicSubstring(s):\n",
        "  if not s:\n",
        "    return ''\n",
        "  max_str = ''\n",
        "  max_length = 0\n",
        "  for i in range(len(s)):\n",
        "    curr_str = expand(s, i, i)\n",
        "    curr_length = len(curr_str)\n",
        "    if curr_length > max_length:\n",
        "      max_length = curr_length\n",
        "      max_str = curr_str\n",
        "    curr_str = expand(s, i, i + 1)\n",
        "    curr_length = len(curr_str)\n",
        "    if curr_length > max_length:\n",
        "      max_length = curr_length\n",
        "      max_str = curr_str\n",
        "  return max_str\n",
        "findLongestPalindromicSubstring('ABDCBCDBDCBBC')"
      ],
      "metadata": {
        "colab": {
          "base_uri": "https://localhost:8080/",
          "height": 36
        },
        "id": "BXcmkVfpZrRc",
        "outputId": "bf13d8ce-7168-43c4-9081-af27bb9437b5"
      },
      "execution_count": 82,
      "outputs": [
        {
          "output_type": "execute_result",
          "data": {
            "text/plain": [
              "'BDCBCDB'"
            ],
            "application/vnd.google.colaboratory.intrinsic+json": {
              "type": "string"
            }
          },
          "metadata": {},
          "execution_count": 82
        }
      ]
    },
    {
      "cell_type": "markdown",
      "source": [
        "43. Write a program to find the number of occurrences of a given element in a list."
      ],
      "metadata": {
        "id": "6j8-Qhf-bAfA"
      }
    },
    {
      "cell_type": "code",
      "source": [
        "def no_occ(l,elem):\n",
        "  return l.count(elem)\n",
        "no_occ([1,2,2,3,2,1],2)"
      ],
      "metadata": {
        "colab": {
          "base_uri": "https://localhost:8080/"
        },
        "id": "nskcQUkhbBEP",
        "outputId": "3221997f-dd8e-419a-eb34-826d7f286d51"
      },
      "execution_count": 85,
      "outputs": [
        {
          "output_type": "execute_result",
          "data": {
            "text/plain": [
              "3"
            ]
          },
          "metadata": {},
          "execution_count": 85
        }
      ]
    },
    {
      "cell_type": "markdown",
      "source": [
        "44. Implement a function to check if a given number is a perfect number.\n"
      ],
      "metadata": {
        "id": "alkrVy3rbVNY"
      }
    },
    {
      "cell_type": "code",
      "source": [
        "def isPerfect(n):\n",
        "  sum=1\n",
        "  i=2\n",
        "  while i*i<=n:\n",
        "    if n%i==0:\n",
        "      sum=sum+i+n/i\n",
        "    i+=1\n",
        "  return (True if sum == n and n!=1 else False)\n",
        "isPerfect(28)"
      ],
      "metadata": {
        "colab": {
          "base_uri": "https://localhost:8080/"
        },
        "id": "z0btejvPbVnH",
        "outputId": "5f823b4e-e828-4f11-be8d-7eeec6a119c1"
      },
      "execution_count": 88,
      "outputs": [
        {
          "output_type": "execute_result",
          "data": {
            "text/plain": [
              "True"
            ]
          },
          "metadata": {},
          "execution_count": 88
        }
      ]
    },
    {
      "cell_type": "markdown",
      "source": [
        "45. Write a Python program to remove all duplicates from a string.\n"
      ],
      "metadata": {
        "id": "VOHlwAR2coYB"
      }
    },
    {
      "cell_type": "code",
      "source": [
        "def remove_dup(l):\n",
        "  ans=[]\n",
        "  s=set()\n",
        "  for i in l:\n",
        "    if i not in s:\n",
        "      ans.append(i)\n",
        "      s.add(i)\n",
        "  return ans\n",
        "remove_dup([1,2,3,1,2,2,3,1,2,3])"
      ],
      "metadata": {
        "colab": {
          "base_uri": "https://localhost:8080/"
        },
        "id": "Q70fL4kgco_s",
        "outputId": "29f20d4d-be9a-45e8-fe55-a083ba562959"
      },
      "execution_count": 89,
      "outputs": [
        {
          "output_type": "execute_result",
          "data": {
            "text/plain": [
              "[1, 2, 3]"
            ]
          },
          "metadata": {},
          "execution_count": 89
        }
      ]
    },
    {
      "cell_type": "markdown",
      "source": [
        "46. Implement a function to find the first missing positive\n"
      ],
      "metadata": {
        "id": "m8-NpyKqc1Ar"
      }
    },
    {
      "cell_type": "code",
      "source": [
        "def smallest_miss(nums):\n",
        "  n=len(nums)\n",
        "  for i in range(n):\n",
        "    correctPos=nums[i]-1\n",
        "    while 1<=nums[i]<=n and nums[i]!=nums[correctPos]:\n",
        "      nums[i],nums[correctPos]=nums[correctPos],nums[i]\n",
        "      correctPos=nums[i]-1\n",
        "  for i in range(n):\n",
        "    if i+1!=nums[i]:\n",
        "      return i+1\n",
        "  return n+1\n",
        "smallest_miss([7,8,9,11,12])"
      ],
      "metadata": {
        "colab": {
          "base_uri": "https://localhost:8080/"
        },
        "id": "k2n0pBWPc1fF",
        "outputId": "94a7f00a-70a1-4f87-f984-1f0982e7a37b"
      },
      "execution_count": 90,
      "outputs": [
        {
          "output_type": "execute_result",
          "data": {
            "text/plain": [
              "1"
            ]
          },
          "metadata": {},
          "execution_count": 90
        }
      ]
    }
  ]
}