{
  "nbformat": 4,
  "nbformat_minor": 0,
  "metadata": {
    "colab": {
      "provenance": []
    },
    "kernelspec": {
      "name": "python3",
      "display_name": "Python 3"
    },
    "language_info": {
      "name": "python"
    }
  },
  "cells": [
    {
      "cell_type": "markdown",
      "source": [
        "Given a non-negative integer x, return the square root of x rounded down to the nearest integer. The returned integer should be non-negative as well. You must not use any built-in exponent function or operator.\n",
        "\n",
        " Example 1:\n",
        "\n",
        "Input: x = 4\n",
        "\n",
        "Output: 2\n",
        "\n",
        "Explanation: The square root of 4 is 2, so we return 2.\n",
        "\n",
        "Example 2:\n",
        "\n",
        "Input: x = 8\n",
        "\n",
        "Output: 2\n",
        "\n",
        "Explanation: The square root of 8 is 2.82842..., and since we round it down to the nearest integer, 2 is returned.\n",
        "\n",
        "Constraints:\n",
        "\n",
        "0 <= x <= 2^31 - 1\n",
        "\n",
        "Note: Create a GitHub file for the solution and add the file link the the answer section below."
      ],
      "metadata": {
        "id": "HHdJLPf69XU_"
      }
    },
    {
      "cell_type": "code",
      "source": [
        "def square_root(x):\n",
        "  low,high=1,x\n",
        "  while low<=high:\n",
        "    mid=(low+high)//2\n",
        "    elem=mid*mid\n",
        "    if elem==x:\n",
        "      return mid\n",
        "    elif elem>x:\n",
        "      high=mid-1\n",
        "    else:\n",
        "      low=mid+1\n",
        "  return high\n",
        "print(square_root(4))\n",
        "print(square_root(8))\n",
        "#Time Complexity -->  O(logx)\n",
        "#Space Complexity --> O(1)"
      ],
      "metadata": {
        "colab": {
          "base_uri": "https://localhost:8080/"
        },
        "id": "NIYQieEL9i-x",
        "outputId": "c5e44888-4c55-4e71-9618-2019a8a242d4"
      },
      "execution_count": 1,
      "outputs": [
        {
          "output_type": "stream",
          "name": "stdout",
          "text": [
            "2\n",
            "2\n"
          ]
        }
      ]
    },
    {
      "cell_type": "markdown",
      "source": [
        "You are given two non-empty linked lists representing two non-negative integers. The digits are stored in reverse order, and each of their nodes contains a single digit. Add the two numbers and return the sum as a linked list.\n",
        "\n",
        "You may assume the two numbers do not contain any leading zero, except the number 0 itself.\n",
        "\n",
        "\n",
        "Example 1:\n",
        "\n",
        "Input: l1 = [2,4,3], l2 = [5,6,4]\n",
        "\n",
        "Output: [7,0,8]\n",
        "\n",
        "Explanation: 342 + 465 = 807.\n",
        "\n",
        "Example 2:\n",
        "\n",
        "Input: l1 = [0], l2 = [0]\n",
        "\n",
        "Output: [0]\n",
        "\n",
        "Example 3:\n",
        "\n",
        "Input: l1 = [9,9,9,9,9,9,9], l2 = [9,9,9,9]\n",
        "\n",
        "Output: [8,9,9,9,0,0,0,1]\n",
        "\n",
        "\n",
        "\n",
        "Constraints:\n",
        "\n",
        "The number of nodes in each linked list is in the range [1, 100].\n",
        "0 <= Node.val <= 9 It is guaranteed that the list represents a number that does not have leading zeros.\n",
        "\n"
      ],
      "metadata": {
        "id": "Rp9FFI9KECxT"
      }
    },
    {
      "cell_type": "code",
      "source": [
        "class ListNode:\n",
        "  def __init__(self, val=0, next=None):\n",
        "    self.val = val\n",
        "    self.next = next\n",
        "def add_two_numbers(l1,l2):\n",
        "  ans=head=ListNode()\n",
        "  carry=0\n",
        "  while l1 or l2 or carry:\n",
        "    v1=l1.val if l1 else 0\n",
        "    v2=l2.val if l2 else 0\n",
        "    elem=v1+v2+carry\n",
        "    carry=elem//10\n",
        "    ans.next=ListNode(elem%10)\n",
        "    ans=ans.next\n",
        "    l1=l1.next if l1 else None\n",
        "    l2=l2.next if l2 else None\n",
        "  return head.next\n",
        "#Time Complexity -->  O(log(max(m,n)), where m and are the lengths of l1 and l2\n",
        "#Space Complexity --> O(1)"
      ],
      "metadata": {
        "id": "g91FtASUEMOu"
      },
      "execution_count": null,
      "outputs": []
    }
  ]
}